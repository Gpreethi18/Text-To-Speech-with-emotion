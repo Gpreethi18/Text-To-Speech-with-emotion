{
  "cells": [
    {
      "cell_type": "markdown",
      "metadata": {
        "id": "view-in-github",
        "colab_type": "text"
      },
      "source": [
        "<a href=\"https://colab.research.google.com/github/Gpreethi18/Text-To-Speech-with-emotion/blob/main/Automated_AudioBook.ipynb\" target=\"_parent\"><img src=\"https://colab.research.google.com/assets/colab-badge.svg\" alt=\"Open In Colab\"/></a>"
      ]
    },
    {
      "cell_type": "code",
      "execution_count": null,
      "metadata": {
        "colab": {
          "base_uri": "https://localhost:8080/"
        },
        "id": "zrqAesQPG4lC",
        "outputId": "3931cbbd-f8f2-4dc7-9014-1dc6a2a56b6f"
      },
      "outputs": [
        {
          "output_type": "stream",
          "name": "stdout",
          "text": [
            "Looking in indexes: https://pypi.org/simple, https://us-python.pkg.dev/colab-wheels/public/simple/\n",
            "Requirement already satisfied: transformers in /usr/local/lib/python3.10/dist-packages (4.29.2)\n",
            "Requirement already satisfied: filelock in /usr/local/lib/python3.10/dist-packages (from transformers) (3.12.0)\n",
            "Requirement already satisfied: huggingface-hub<1.0,>=0.14.1 in /usr/local/lib/python3.10/dist-packages (from transformers) (0.15.1)\n",
            "Requirement already satisfied: numpy>=1.17 in /usr/local/lib/python3.10/dist-packages (from transformers) (1.22.4)\n",
            "Requirement already satisfied: packaging>=20.0 in /usr/local/lib/python3.10/dist-packages (from transformers) (23.1)\n",
            "Requirement already satisfied: pyyaml>=5.1 in /usr/local/lib/python3.10/dist-packages (from transformers) (6.0)\n",
            "Requirement already satisfied: regex!=2019.12.17 in /usr/local/lib/python3.10/dist-packages (from transformers) (2022.10.31)\n",
            "Requirement already satisfied: requests in /usr/local/lib/python3.10/dist-packages (from transformers) (2.27.1)\n",
            "Requirement already satisfied: tokenizers!=0.11.3,<0.14,>=0.11.1 in /usr/local/lib/python3.10/dist-packages (from transformers) (0.13.3)\n",
            "Requirement already satisfied: tqdm>=4.27 in /usr/local/lib/python3.10/dist-packages (from transformers) (4.65.0)\n",
            "Requirement already satisfied: fsspec in /usr/local/lib/python3.10/dist-packages (from huggingface-hub<1.0,>=0.14.1->transformers) (2023.4.0)\n",
            "Requirement already satisfied: typing-extensions>=3.7.4.3 in /usr/local/lib/python3.10/dist-packages (from huggingface-hub<1.0,>=0.14.1->transformers) (4.5.0)\n",
            "Requirement already satisfied: urllib3<1.27,>=1.21.1 in /usr/local/lib/python3.10/dist-packages (from requests->transformers) (1.26.15)\n",
            "Requirement already satisfied: certifi>=2017.4.17 in /usr/local/lib/python3.10/dist-packages (from requests->transformers) (2022.12.7)\n",
            "Requirement already satisfied: charset-normalizer~=2.0.0 in /usr/local/lib/python3.10/dist-packages (from requests->transformers) (2.0.12)\n",
            "Requirement already satisfied: idna<4,>=2.5 in /usr/local/lib/python3.10/dist-packages (from requests->transformers) (3.4)\n"
          ]
        }
      ],
      "source": [
        "!pip3 install transformers"
      ]
    },
    {
      "cell_type": "code",
      "execution_count": null,
      "metadata": {
        "colab": {
          "base_uri": "https://localhost:8080/"
        },
        "id": "csi0RWZCLwSf",
        "outputId": "750cff93-a89f-4367-8794-10f1068fd1b5"
      },
      "outputs": [
        {
          "output_type": "stream",
          "name": "stdout",
          "text": [
            "Drive already mounted at /content/drive; to attempt to forcibly remount, call drive.mount(\"/content/drive\", force_remount=True).\n"
          ]
        }
      ],
      "source": [
        "from google import colab\n",
        "from google.colab import drive\n",
        "drive.mount('/content/drive')"
      ]
    },
    {
      "cell_type": "code",
      "execution_count": null,
      "metadata": {
        "id": "HjP328h7J71U"
      },
      "outputs": [],
      "source": [
        "import numpy as np\n",
        "import pandas as pd\n",
        "from sklearn.model_selection import train_test_split\n",
        "from sklearn.linear_model import LogisticRegression\n",
        "from sklearn.model_selection import GridSearchCV\n",
        "from sklearn.model_selection import cross_val_score\n",
        "import torch\n",
        "import transformers as ppb\n",
        "import warnings\n",
        "warnings.filterwarnings('ignore')"
      ]
    },
    {
      "cell_type": "code",
      "execution_count": null,
      "metadata": {
        "id": "zLWn44XOKC0F",
        "colab": {
          "base_uri": "https://localhost:8080/",
          "height": 206
        },
        "outputId": "13e5ce6d-3607-463b-c456-f1a01fc644f3"
      },
      "outputs": [
        {
          "output_type": "execute_result",
          "data": {
            "text/plain": [
              "                                            Sentence  Emotion\n",
              "0  \"It is very unpleasant, I am afraid of the pol...      3.0\n",
              "1  Pickles nearly had a fit, he barked and he bar...      2.0\n",
              "2                 He shut the door in Nutkin's face.      2.0\n",
              "3  Old Mr. Brown turned up his eyes in disgust at...      2.0\n",
              "4  And to this day, if you meet Nutkin up a tree ...      2.0"
            ],
            "text/html": [
              "\n",
              "  <div id=\"df-eb250fa0-67c3-4ce3-a1d3-0f4edced8861\">\n",
              "    <div class=\"colab-df-container\">\n",
              "      <div>\n",
              "<style scoped>\n",
              "    .dataframe tbody tr th:only-of-type {\n",
              "        vertical-align: middle;\n",
              "    }\n",
              "\n",
              "    .dataframe tbody tr th {\n",
              "        vertical-align: top;\n",
              "    }\n",
              "\n",
              "    .dataframe thead th {\n",
              "        text-align: right;\n",
              "    }\n",
              "</style>\n",
              "<table border=\"1\" class=\"dataframe\">\n",
              "  <thead>\n",
              "    <tr style=\"text-align: right;\">\n",
              "      <th></th>\n",
              "      <th>Sentence</th>\n",
              "      <th>Emotion</th>\n",
              "    </tr>\n",
              "  </thead>\n",
              "  <tbody>\n",
              "    <tr>\n",
              "      <th>0</th>\n",
              "      <td>\"It is very unpleasant, I am afraid of the pol...</td>\n",
              "      <td>3.0</td>\n",
              "    </tr>\n",
              "    <tr>\n",
              "      <th>1</th>\n",
              "      <td>Pickles nearly had a fit, he barked and he bar...</td>\n",
              "      <td>2.0</td>\n",
              "    </tr>\n",
              "    <tr>\n",
              "      <th>2</th>\n",
              "      <td>He shut the door in Nutkin's face.</td>\n",
              "      <td>2.0</td>\n",
              "    </tr>\n",
              "    <tr>\n",
              "      <th>3</th>\n",
              "      <td>Old Mr. Brown turned up his eyes in disgust at...</td>\n",
              "      <td>2.0</td>\n",
              "    </tr>\n",
              "    <tr>\n",
              "      <th>4</th>\n",
              "      <td>And to this day, if you meet Nutkin up a tree ...</td>\n",
              "      <td>2.0</td>\n",
              "    </tr>\n",
              "  </tbody>\n",
              "</table>\n",
              "</div>\n",
              "      <button class=\"colab-df-convert\" onclick=\"convertToInteractive('df-eb250fa0-67c3-4ce3-a1d3-0f4edced8861')\"\n",
              "              title=\"Convert this dataframe to an interactive table.\"\n",
              "              style=\"display:none;\">\n",
              "        \n",
              "  <svg xmlns=\"http://www.w3.org/2000/svg\" height=\"24px\"viewBox=\"0 0 24 24\"\n",
              "       width=\"24px\">\n",
              "    <path d=\"M0 0h24v24H0V0z\" fill=\"none\"/>\n",
              "    <path d=\"M18.56 5.44l.94 2.06.94-2.06 2.06-.94-2.06-.94-.94-2.06-.94 2.06-2.06.94zm-11 1L8.5 8.5l.94-2.06 2.06-.94-2.06-.94L8.5 2.5l-.94 2.06-2.06.94zm10 10l.94 2.06.94-2.06 2.06-.94-2.06-.94-.94-2.06-.94 2.06-2.06.94z\"/><path d=\"M17.41 7.96l-1.37-1.37c-.4-.4-.92-.59-1.43-.59-.52 0-1.04.2-1.43.59L10.3 9.45l-7.72 7.72c-.78.78-.78 2.05 0 2.83L4 21.41c.39.39.9.59 1.41.59.51 0 1.02-.2 1.41-.59l7.78-7.78 2.81-2.81c.8-.78.8-2.07 0-2.86zM5.41 20L4 18.59l7.72-7.72 1.47 1.35L5.41 20z\"/>\n",
              "  </svg>\n",
              "      </button>\n",
              "      \n",
              "  <style>\n",
              "    .colab-df-container {\n",
              "      display:flex;\n",
              "      flex-wrap:wrap;\n",
              "      gap: 12px;\n",
              "    }\n",
              "\n",
              "    .colab-df-convert {\n",
              "      background-color: #E8F0FE;\n",
              "      border: none;\n",
              "      border-radius: 50%;\n",
              "      cursor: pointer;\n",
              "      display: none;\n",
              "      fill: #1967D2;\n",
              "      height: 32px;\n",
              "      padding: 0 0 0 0;\n",
              "      width: 32px;\n",
              "    }\n",
              "\n",
              "    .colab-df-convert:hover {\n",
              "      background-color: #E2EBFA;\n",
              "      box-shadow: 0px 1px 2px rgba(60, 64, 67, 0.3), 0px 1px 3px 1px rgba(60, 64, 67, 0.15);\n",
              "      fill: #174EA6;\n",
              "    }\n",
              "\n",
              "    [theme=dark] .colab-df-convert {\n",
              "      background-color: #3B4455;\n",
              "      fill: #D2E3FC;\n",
              "    }\n",
              "\n",
              "    [theme=dark] .colab-df-convert:hover {\n",
              "      background-color: #434B5C;\n",
              "      box-shadow: 0px 1px 3px 1px rgba(0, 0, 0, 0.15);\n",
              "      filter: drop-shadow(0px 1px 2px rgba(0, 0, 0, 0.3));\n",
              "      fill: #FFFFFF;\n",
              "    }\n",
              "  </style>\n",
              "\n",
              "      <script>\n",
              "        const buttonEl =\n",
              "          document.querySelector('#df-eb250fa0-67c3-4ce3-a1d3-0f4edced8861 button.colab-df-convert');\n",
              "        buttonEl.style.display =\n",
              "          google.colab.kernel.accessAllowed ? 'block' : 'none';\n",
              "\n",
              "        async function convertToInteractive(key) {\n",
              "          const element = document.querySelector('#df-eb250fa0-67c3-4ce3-a1d3-0f4edced8861');\n",
              "          const dataTable =\n",
              "            await google.colab.kernel.invokeFunction('convertToInteractive',\n",
              "                                                     [key], {});\n",
              "          if (!dataTable) return;\n",
              "\n",
              "          const docLinkHtml = 'Like what you see? Visit the ' +\n",
              "            '<a target=\"_blank\" href=https://colab.research.google.com/notebooks/data_table.ipynb>data table notebook</a>'\n",
              "            + ' to learn more about interactive tables.';\n",
              "          element.innerHTML = '';\n",
              "          dataTable['output_type'] = 'display_data';\n",
              "          await google.colab.output.renderOutput(dataTable, element);\n",
              "          const docLink = document.createElement('div');\n",
              "          docLink.innerHTML = docLinkHtml;\n",
              "          element.appendChild(docLink);\n",
              "        }\n",
              "      </script>\n",
              "    </div>\n",
              "  </div>\n",
              "  "
            ]
          },
          "metadata": {},
          "execution_count": 8
        }
      ],
      "source": [
        "df=pd.read_csv('dataset_2.csv')\n",
        "df.head()"
      ]
    },
    {
      "cell_type": "markdown",
      "metadata": {
        "id": "E3sQVLMqn-ln"
      },
      "source": [
        "Happy, Sad, Angry, Fear, Normal, Suprised"
      ]
    },
    {
      "cell_type": "code",
      "execution_count": null,
      "metadata": {
        "id": "14px3IqnKN8s",
        "colab": {
          "base_uri": "https://localhost:8080/",
          "height": 206
        },
        "outputId": "cdda72f9-4c7d-4386-9d58-758ceca99f8d"
      },
      "outputs": [
        {
          "output_type": "execute_result",
          "data": {
            "text/plain": [
              "                                            Sentence  Emotion\n",
              "0  \"It is very unpleasant, I am afraid of the pol...      3.0\n",
              "1  Pickles nearly had a fit, he barked and he bar...      2.0\n",
              "2                 He shut the door in Nutkin's face.      2.0\n",
              "3  Old Mr. Brown turned up his eyes in disgust at...      2.0\n",
              "4  And to this day, if you meet Nutkin up a tree ...      2.0"
            ],
            "text/html": [
              "\n",
              "  <div id=\"df-f7905007-5ebf-4a3b-ac6b-1bd1eda6e20a\">\n",
              "    <div class=\"colab-df-container\">\n",
              "      <div>\n",
              "<style scoped>\n",
              "    .dataframe tbody tr th:only-of-type {\n",
              "        vertical-align: middle;\n",
              "    }\n",
              "\n",
              "    .dataframe tbody tr th {\n",
              "        vertical-align: top;\n",
              "    }\n",
              "\n",
              "    .dataframe thead th {\n",
              "        text-align: right;\n",
              "    }\n",
              "</style>\n",
              "<table border=\"1\" class=\"dataframe\">\n",
              "  <thead>\n",
              "    <tr style=\"text-align: right;\">\n",
              "      <th></th>\n",
              "      <th>Sentence</th>\n",
              "      <th>Emotion</th>\n",
              "    </tr>\n",
              "  </thead>\n",
              "  <tbody>\n",
              "    <tr>\n",
              "      <th>0</th>\n",
              "      <td>\"It is very unpleasant, I am afraid of the pol...</td>\n",
              "      <td>3.0</td>\n",
              "    </tr>\n",
              "    <tr>\n",
              "      <th>1</th>\n",
              "      <td>Pickles nearly had a fit, he barked and he bar...</td>\n",
              "      <td>2.0</td>\n",
              "    </tr>\n",
              "    <tr>\n",
              "      <th>2</th>\n",
              "      <td>He shut the door in Nutkin's face.</td>\n",
              "      <td>2.0</td>\n",
              "    </tr>\n",
              "    <tr>\n",
              "      <th>3</th>\n",
              "      <td>Old Mr. Brown turned up his eyes in disgust at...</td>\n",
              "      <td>2.0</td>\n",
              "    </tr>\n",
              "    <tr>\n",
              "      <th>4</th>\n",
              "      <td>And to this day, if you meet Nutkin up a tree ...</td>\n",
              "      <td>2.0</td>\n",
              "    </tr>\n",
              "  </tbody>\n",
              "</table>\n",
              "</div>\n",
              "      <button class=\"colab-df-convert\" onclick=\"convertToInteractive('df-f7905007-5ebf-4a3b-ac6b-1bd1eda6e20a')\"\n",
              "              title=\"Convert this dataframe to an interactive table.\"\n",
              "              style=\"display:none;\">\n",
              "        \n",
              "  <svg xmlns=\"http://www.w3.org/2000/svg\" height=\"24px\"viewBox=\"0 0 24 24\"\n",
              "       width=\"24px\">\n",
              "    <path d=\"M0 0h24v24H0V0z\" fill=\"none\"/>\n",
              "    <path d=\"M18.56 5.44l.94 2.06.94-2.06 2.06-.94-2.06-.94-.94-2.06-.94 2.06-2.06.94zm-11 1L8.5 8.5l.94-2.06 2.06-.94-2.06-.94L8.5 2.5l-.94 2.06-2.06.94zm10 10l.94 2.06.94-2.06 2.06-.94-2.06-.94-.94-2.06-.94 2.06-2.06.94z\"/><path d=\"M17.41 7.96l-1.37-1.37c-.4-.4-.92-.59-1.43-.59-.52 0-1.04.2-1.43.59L10.3 9.45l-7.72 7.72c-.78.78-.78 2.05 0 2.83L4 21.41c.39.39.9.59 1.41.59.51 0 1.02-.2 1.41-.59l7.78-7.78 2.81-2.81c.8-.78.8-2.07 0-2.86zM5.41 20L4 18.59l7.72-7.72 1.47 1.35L5.41 20z\"/>\n",
              "  </svg>\n",
              "      </button>\n",
              "      \n",
              "  <style>\n",
              "    .colab-df-container {\n",
              "      display:flex;\n",
              "      flex-wrap:wrap;\n",
              "      gap: 12px;\n",
              "    }\n",
              "\n",
              "    .colab-df-convert {\n",
              "      background-color: #E8F0FE;\n",
              "      border: none;\n",
              "      border-radius: 50%;\n",
              "      cursor: pointer;\n",
              "      display: none;\n",
              "      fill: #1967D2;\n",
              "      height: 32px;\n",
              "      padding: 0 0 0 0;\n",
              "      width: 32px;\n",
              "    }\n",
              "\n",
              "    .colab-df-convert:hover {\n",
              "      background-color: #E2EBFA;\n",
              "      box-shadow: 0px 1px 2px rgba(60, 64, 67, 0.3), 0px 1px 3px 1px rgba(60, 64, 67, 0.15);\n",
              "      fill: #174EA6;\n",
              "    }\n",
              "\n",
              "    [theme=dark] .colab-df-convert {\n",
              "      background-color: #3B4455;\n",
              "      fill: #D2E3FC;\n",
              "    }\n",
              "\n",
              "    [theme=dark] .colab-df-convert:hover {\n",
              "      background-color: #434B5C;\n",
              "      box-shadow: 0px 1px 3px 1px rgba(0, 0, 0, 0.15);\n",
              "      filter: drop-shadow(0px 1px 2px rgba(0, 0, 0, 0.3));\n",
              "      fill: #FFFFFF;\n",
              "    }\n",
              "  </style>\n",
              "\n",
              "      <script>\n",
              "        const buttonEl =\n",
              "          document.querySelector('#df-f7905007-5ebf-4a3b-ac6b-1bd1eda6e20a button.colab-df-convert');\n",
              "        buttonEl.style.display =\n",
              "          google.colab.kernel.accessAllowed ? 'block' : 'none';\n",
              "\n",
              "        async function convertToInteractive(key) {\n",
              "          const element = document.querySelector('#df-f7905007-5ebf-4a3b-ac6b-1bd1eda6e20a');\n",
              "          const dataTable =\n",
              "            await google.colab.kernel.invokeFunction('convertToInteractive',\n",
              "                                                     [key], {});\n",
              "          if (!dataTable) return;\n",
              "\n",
              "          const docLinkHtml = 'Like what you see? Visit the ' +\n",
              "            '<a target=\"_blank\" href=https://colab.research.google.com/notebooks/data_table.ipynb>data table notebook</a>'\n",
              "            + ' to learn more about interactive tables.';\n",
              "          element.innerHTML = '';\n",
              "          dataTable['output_type'] = 'display_data';\n",
              "          await google.colab.output.renderOutput(dataTable, element);\n",
              "          const docLink = document.createElement('div');\n",
              "          docLink.innerHTML = docLinkHtml;\n",
              "          element.appendChild(docLink);\n",
              "        }\n",
              "      </script>\n",
              "    </div>\n",
              "  </div>\n",
              "  "
            ]
          },
          "metadata": {},
          "execution_count": 9
        }
      ],
      "source": [
        "df.head()"
      ]
    },
    {
      "cell_type": "markdown",
      "metadata": {
        "id": "478jMmYrSTif"
      },
      "source": [
        "**DATA PREPROCESSING**"
      ]
    },
    {
      "cell_type": "code",
      "execution_count": null,
      "metadata": {
        "id": "h1yGgyC6Ked9",
        "colab": {
          "base_uri": "https://localhost:8080/"
        },
        "outputId": "f6abad0a-73b8-4385-dc90-37ba4a728d26"
      },
      "outputs": [
        {
          "output_type": "execute_result",
          "data": {
            "text/plain": [
              "Sentence      0\n",
              "Emotion     523\n",
              "dtype: int64"
            ]
          },
          "metadata": {},
          "execution_count": 10
        }
      ],
      "source": [
        "df.isnull().sum()"
      ]
    },
    {
      "cell_type": "code",
      "execution_count": null,
      "metadata": {
        "id": "eCARCM1l-qIl"
      },
      "outputs": [],
      "source": [
        "df.fillna(1, inplace=True)"
      ]
    },
    {
      "cell_type": "code",
      "execution_count": null,
      "metadata": {
        "id": "AspFldWH-ySq",
        "colab": {
          "base_uri": "https://localhost:8080/"
        },
        "outputId": "a853eca2-a7cf-4c83-f551-177ff68802bf"
      },
      "outputs": [
        {
          "output_type": "execute_result",
          "data": {
            "text/plain": [
              "Sentence    0\n",
              "Emotion     0\n",
              "dtype: int64"
            ]
          },
          "metadata": {},
          "execution_count": 12
        }
      ],
      "source": [
        "df.isnull().sum()"
      ]
    },
    {
      "cell_type": "code",
      "execution_count": null,
      "metadata": {
        "id": "2Wn2zZPQ-6yE",
        "colab": {
          "base_uri": "https://localhost:8080/"
        },
        "outputId": "dbf768d9-d17a-4f48-a560-3d59ae98ad34"
      },
      "outputs": [
        {
          "output_type": "execute_result",
          "data": {
            "text/plain": [
              "(2011, 2)"
            ]
          },
          "metadata": {},
          "execution_count": 13
        }
      ],
      "source": [
        "df.shape"
      ]
    },
    {
      "cell_type": "code",
      "execution_count": null,
      "metadata": {
        "id": "psW1wuSRKou9",
        "colab": {
          "base_uri": "https://localhost:8080/"
        },
        "outputId": "dbc05e90-75b8-4536-b0b2-17fea87a35b1"
      },
      "outputs": [
        {
          "output_type": "execute_result",
          "data": {
            "text/plain": [
              "4.0    587\n",
              "1.0    523\n",
              "6.0    319\n",
              "2.0    243\n",
              "3.0    187\n",
              "7.0    152\n",
              "Name: Emotion, dtype: int64"
            ]
          },
          "metadata": {},
          "execution_count": 14
        }
      ],
      "source": [
        "df['Emotion'].value_counts()"
      ]
    },
    {
      "cell_type": "code",
      "execution_count": null,
      "metadata": {
        "id": "AJ4pJpoALqpT"
      },
      "outputs": [],
      "source": [
        "model_class, tokenizer_class, pretrained_weights = (ppb.BertModel, ppb.BertTokenizer, 'bert-base-uncased')"
      ]
    },
    {
      "cell_type": "code",
      "execution_count": null,
      "metadata": {
        "id": "zGQaN0OML2bc",
        "colab": {
          "base_uri": "https://localhost:8080/",
          "height": 217,
          "referenced_widgets": [
            "93b2fd68889b4d5fad9ed7610f932d23",
            "2bc07c8248fc4d6489ebf3db8f480d7a",
            "6c41a02625af418e8a25a788245c36bb",
            "80b096e39e9743ac965f6de1c1cac83b",
            "9ca24e194c0c4744953f31891ab159e6",
            "1d4a43f741ec4895894a308496288229",
            "883d67a6f7aa4cf98bcabdd4a5e2a0ae",
            "f9974bdc38714a10a5d78042311d57c4",
            "980604c64e7742bc96d734ee0672dc53",
            "127d73b1abcf4e49ad9cebd95e05d198",
            "ef45af0413884a9a8c97452436d84660",
            "3a8a2acd70364019b627bcfa151ec4b3",
            "51ff1882e311457ab85876931cf993f9",
            "995ad2767fd24c1e9d2cbbb20c4fec19",
            "d9cd7328ec4542a6bde11b8d01568ed1",
            "500ec0bfc7844470a1d936306763850e",
            "ea83f04a09224506820b8aa52ee282e6",
            "798fd2c376a04013837e24f024f17189",
            "901d678fddbf461583c3036f68f99d60",
            "e8ee8b5dd46c445fa04c63c74eab9da8",
            "70229bb35d3b4c559b2f2bd2db9a665c",
            "0244332dc11648ad9c398ebf3bb1f715",
            "a21fd6301ad94d4aa71b4a61e631594a",
            "d85a2772e7004e288056f687209f80b8",
            "4c3be407424d48108ad2012a17ee2edd",
            "f516e6ba6d3845c091fe2603af1d8f5e",
            "19c42326a70240cab2bfed86190a4288",
            "c11c12bc146e46759208f98e768a252a",
            "8da500508786483ab184eccc22183560",
            "52a7b467d7ee45cb8a325f69dcbe1eba",
            "75297cddd7be4c2593192f82554c658e",
            "49c4954c2d0841ae800ce0b21322a557",
            "b4b4be0453b64aefb10cecccdb9084d3",
            "2f91665899ce4c63a270e95adc0d1392",
            "a5971fcbf1aa4779b33de4af081e067d",
            "a34a58841f084fbe953709ab71821eed",
            "15f0773027bc462c847642f2f5876998",
            "9fa04ae793564888be9a73c2625a0cf5",
            "b66d979b810f4925b5aba24e1260c8e8",
            "117244eb8a4e42db8688769337e61cc5",
            "5a1262fd07ae4006a8c0d7c0c44d1af5",
            "0ffba2c5ac2c491b9fa91cbd63ec383e",
            "5ee8c4d5533a496a8705d786dde850a5",
            "0e4df69bfa334b66be06dbaa0efd33ea"
          ]
        },
        "outputId": "1fc75bc6-cd5f-42d0-e9db-92f7706a27ee"
      },
      "outputs": [
        {
          "output_type": "display_data",
          "data": {
            "text/plain": [
              "Downloading (…)solve/main/vocab.txt:   0%|          | 0.00/232k [00:00<?, ?B/s]"
            ],
            "application/vnd.jupyter.widget-view+json": {
              "version_major": 2,
              "version_minor": 0,
              "model_id": "93b2fd68889b4d5fad9ed7610f932d23"
            }
          },
          "metadata": {}
        },
        {
          "output_type": "display_data",
          "data": {
            "text/plain": [
              "Downloading (…)okenizer_config.json:   0%|          | 0.00/28.0 [00:00<?, ?B/s]"
            ],
            "application/vnd.jupyter.widget-view+json": {
              "version_major": 2,
              "version_minor": 0,
              "model_id": "3a8a2acd70364019b627bcfa151ec4b3"
            }
          },
          "metadata": {}
        },
        {
          "output_type": "display_data",
          "data": {
            "text/plain": [
              "Downloading (…)lve/main/config.json:   0%|          | 0.00/570 [00:00<?, ?B/s]"
            ],
            "application/vnd.jupyter.widget-view+json": {
              "version_major": 2,
              "version_minor": 0,
              "model_id": "a21fd6301ad94d4aa71b4a61e631594a"
            }
          },
          "metadata": {}
        },
        {
          "output_type": "display_data",
          "data": {
            "text/plain": [
              "Downloading pytorch_model.bin:   0%|          | 0.00/440M [00:00<?, ?B/s]"
            ],
            "application/vnd.jupyter.widget-view+json": {
              "version_major": 2,
              "version_minor": 0,
              "model_id": "2f91665899ce4c63a270e95adc0d1392"
            }
          },
          "metadata": {}
        },
        {
          "output_type": "stream",
          "name": "stderr",
          "text": [
            "Some weights of the model checkpoint at bert-base-uncased were not used when initializing BertModel: ['cls.predictions.transform.LayerNorm.weight', 'cls.predictions.transform.dense.weight', 'cls.seq_relationship.bias', 'cls.predictions.transform.LayerNorm.bias', 'cls.predictions.decoder.weight', 'cls.predictions.transform.dense.bias', 'cls.predictions.bias', 'cls.seq_relationship.weight']\n",
            "- This IS expected if you are initializing BertModel from the checkpoint of a model trained on another task or with another architecture (e.g. initializing a BertForSequenceClassification model from a BertForPreTraining model).\n",
            "- This IS NOT expected if you are initializing BertModel from the checkpoint of a model that you expect to be exactly identical (initializing a BertForSequenceClassification model from a BertForSequenceClassification model).\n"
          ]
        }
      ],
      "source": [
        "tokenizer = tokenizer_class.from_pretrained(pretrained_weights)\n",
        "model = model_class.from_pretrained(pretrained_weights)"
      ]
    },
    {
      "cell_type": "code",
      "execution_count": null,
      "metadata": {
        "id": "NUoXcgSQL7Im"
      },
      "outputs": [],
      "source": [
        "tokenized = df['Sentence'].apply((lambda x: tokenizer.encode(x, add_special_tokens=True)))"
      ]
    },
    {
      "cell_type": "code",
      "execution_count": null,
      "metadata": {
        "id": "6GHwmoBkMIh9"
      },
      "outputs": [],
      "source": [
        "max_len = 0\n",
        "for i in tokenized.values:\n",
        "    if len(i) > max_len:\n",
        "        max_len = len(i)\n",
        "\n",
        "padded = np.array([i + [0]*(max_len-len(i)) for i in tokenized.values])"
      ]
    },
    {
      "cell_type": "code",
      "execution_count": null,
      "metadata": {
        "id": "UnbQjuF5MVaU",
        "colab": {
          "base_uri": "https://localhost:8080/"
        },
        "outputId": "af30bc0d-ed2b-40f6-9f98-da7aa26c44ad"
      },
      "outputs": [
        {
          "output_type": "execute_result",
          "data": {
            "text/plain": [
              "(2011, 116)"
            ]
          },
          "metadata": {},
          "execution_count": 19
        }
      ],
      "source": [
        "np.array(padded).shape"
      ]
    },
    {
      "cell_type": "code",
      "execution_count": null,
      "metadata": {
        "id": "UYQG8XTxMXvT",
        "colab": {
          "base_uri": "https://localhost:8080/"
        },
        "outputId": "f07e20b2-4baf-42c3-8a54-320d0fd5920b"
      },
      "outputs": [
        {
          "output_type": "execute_result",
          "data": {
            "text/plain": [
              "(2011, 116)"
            ]
          },
          "metadata": {},
          "execution_count": 20
        }
      ],
      "source": [
        "attention_mask = np.where(padded != 0, 1, 0)\n",
        "attention_mask.shape"
      ]
    },
    {
      "cell_type": "code",
      "execution_count": null,
      "metadata": {
        "id": "77jNLN6lMb6p"
      },
      "outputs": [],
      "source": [
        "input_ids = torch.tensor(padded)  \n",
        "attention_mask = torch.tensor(attention_mask)\n",
        "\n",
        "with torch.no_grad():\n",
        "    last_hidden_states = model(input_ids, attention_mask=attention_mask)"
      ]
    },
    {
      "cell_type": "code",
      "execution_count": null,
      "metadata": {
        "id": "j406qbAp03-A",
        "colab": {
          "base_uri": "https://localhost:8080/"
        },
        "outputId": "d7d6adc3-8b30-4963-ef0a-1e126039f8b8"
      },
      "outputs": [
        {
          "output_type": "stream",
          "name": "stdout",
          "text": [
            "Drive already mounted at /content/drive; to attempt to forcibly remount, call drive.mount(\"/content/drive\", force_remount=True).\n"
          ]
        }
      ],
      "source": [
        "from google.colab import drive\n",
        "drive.mount('/content/drive')"
      ]
    },
    {
      "cell_type": "code",
      "execution_count": null,
      "metadata": {
        "id": "w7xWE3qf3N1J"
      },
      "outputs": [],
      "source": [
        "ftf = last_hidden_states[0].numpy()"
      ]
    },
    {
      "cell_type": "code",
      "execution_count": null,
      "metadata": {
        "id": "IBQGAtaa5Yms",
        "colab": {
          "base_uri": "https://localhost:8080/"
        },
        "outputId": "b4ae1863-06cc-4133-a982-42748cb5183c"
      },
      "outputs": [
        {
          "output_type": "stream",
          "name": "stdout",
          "text": [
            "(2011, 116, 768)\n"
          ]
        }
      ],
      "source": [
        "print(ftf.shape)"
      ]
    },
    {
      "cell_type": "code",
      "execution_count": null,
      "metadata": {
        "id": "aH7KJmbgMlHE"
      },
      "outputs": [],
      "source": [
        "features = last_hidden_states[0][:,0,:].numpy()"
      ]
    },
    {
      "cell_type": "code",
      "execution_count": null,
      "metadata": {
        "id": "t8Ljl-zS3wDM",
        "colab": {
          "base_uri": "https://localhost:8080/"
        },
        "outputId": "9facafaa-3e63-4cf6-f9f0-8854bfa38997"
      },
      "outputs": [
        {
          "output_type": "stream",
          "name": "stdout",
          "text": [
            "(2011, 768)\n",
            "(768,)\n"
          ]
        },
        {
          "output_type": "execute_result",
          "data": {
            "text/plain": [
              "array([[ 0.1915595 ,  0.28021938, -0.07284649, ...,  0.28744623,\n",
              "         0.63377887,  0.596089  ],\n",
              "       [ 0.06012407,  0.01023429, -0.38634986, ..., -0.35002947,\n",
              "         0.6891031 ,  0.32826972],\n",
              "       [-0.13783082,  0.5422678 , -0.22812448, ..., -0.18520953,\n",
              "         0.487833  ,  0.54930013],\n",
              "       ...,\n",
              "       [-0.00589744, -0.06791367, -0.42092642, ..., -0.44061908,\n",
              "         0.5057658 ,  0.03719714],\n",
              "       [ 0.18385378,  0.08476181, -0.13364007, ..., -0.3743192 ,\n",
              "         0.75516045,  0.12780862],\n",
              "       [ 0.10534984,  0.16825303,  0.25186947, ..., -0.51989347,\n",
              "         0.78532034,  0.11401196]], dtype=float32)"
            ]
          },
          "metadata": {},
          "execution_count": 26
        }
      ],
      "source": [
        "print(features.shape)\n",
        "print(features[0].shape)\n",
        "features"
      ]
    },
    {
      "cell_type": "code",
      "execution_count": null,
      "metadata": {
        "id": "GM0n7T-LOG8E"
      },
      "outputs": [],
      "source": [
        "labels = df['Emotion']"
      ]
    },
    {
      "cell_type": "code",
      "execution_count": null,
      "metadata": {
        "id": "N26scHLXONkK"
      },
      "outputs": [],
      "source": [
        "train_features, test_features, train_labels, test_labels = train_test_split(features, labels)"
      ]
    },
    {
      "cell_type": "code",
      "execution_count": null,
      "metadata": {
        "id": "nZAqQr-JOQkL"
      },
      "outputs": [],
      "source": [
        "# parameters = {'C': np.linspace(0.0001, 100, 20)}\n",
        "# grid_search = GridSearchCV(LogisticRegression(), parameters)\n",
        "# grid_search.fit(train_features, train_labels)\n",
        "\n",
        "# print('best parameters: ', grid_search.best_params_)\n",
        "# print('best scrores: ', grid_search.best_score_)"
      ]
    },
    {
      "cell_type": "code",
      "execution_count": null,
      "metadata": {
        "id": "lMIOwULsO-ui"
      },
      "outputs": [],
      "source": [
        "lr_clf = LogisticRegression(C=5.263252631578947)"
      ]
    },
    {
      "cell_type": "code",
      "execution_count": null,
      "metadata": {
        "id": "ULIhiP_DQSwd",
        "colab": {
          "base_uri": "https://localhost:8080/",
          "height": 74
        },
        "outputId": "eaceea89-d35c-45b7-8af2-24e96fc81436"
      },
      "outputs": [
        {
          "output_type": "execute_result",
          "data": {
            "text/plain": [
              "LogisticRegression(C=5.263252631578947)"
            ],
            "text/html": [
              "<style>#sk-container-id-1 {color: black;background-color: white;}#sk-container-id-1 pre{padding: 0;}#sk-container-id-1 div.sk-toggleable {background-color: white;}#sk-container-id-1 label.sk-toggleable__label {cursor: pointer;display: block;width: 100%;margin-bottom: 0;padding: 0.3em;box-sizing: border-box;text-align: center;}#sk-container-id-1 label.sk-toggleable__label-arrow:before {content: \"▸\";float: left;margin-right: 0.25em;color: #696969;}#sk-container-id-1 label.sk-toggleable__label-arrow:hover:before {color: black;}#sk-container-id-1 div.sk-estimator:hover label.sk-toggleable__label-arrow:before {color: black;}#sk-container-id-1 div.sk-toggleable__content {max-height: 0;max-width: 0;overflow: hidden;text-align: left;background-color: #f0f8ff;}#sk-container-id-1 div.sk-toggleable__content pre {margin: 0.2em;color: black;border-radius: 0.25em;background-color: #f0f8ff;}#sk-container-id-1 input.sk-toggleable__control:checked~div.sk-toggleable__content {max-height: 200px;max-width: 100%;overflow: auto;}#sk-container-id-1 input.sk-toggleable__control:checked~label.sk-toggleable__label-arrow:before {content: \"▾\";}#sk-container-id-1 div.sk-estimator input.sk-toggleable__control:checked~label.sk-toggleable__label {background-color: #d4ebff;}#sk-container-id-1 div.sk-label input.sk-toggleable__control:checked~label.sk-toggleable__label {background-color: #d4ebff;}#sk-container-id-1 input.sk-hidden--visually {border: 0;clip: rect(1px 1px 1px 1px);clip: rect(1px, 1px, 1px, 1px);height: 1px;margin: -1px;overflow: hidden;padding: 0;position: absolute;width: 1px;}#sk-container-id-1 div.sk-estimator {font-family: monospace;background-color: #f0f8ff;border: 1px dotted black;border-radius: 0.25em;box-sizing: border-box;margin-bottom: 0.5em;}#sk-container-id-1 div.sk-estimator:hover {background-color: #d4ebff;}#sk-container-id-1 div.sk-parallel-item::after {content: \"\";width: 100%;border-bottom: 1px solid gray;flex-grow: 1;}#sk-container-id-1 div.sk-label:hover label.sk-toggleable__label {background-color: #d4ebff;}#sk-container-id-1 div.sk-serial::before {content: \"\";position: absolute;border-left: 1px solid gray;box-sizing: border-box;top: 0;bottom: 0;left: 50%;z-index: 0;}#sk-container-id-1 div.sk-serial {display: flex;flex-direction: column;align-items: center;background-color: white;padding-right: 0.2em;padding-left: 0.2em;position: relative;}#sk-container-id-1 div.sk-item {position: relative;z-index: 1;}#sk-container-id-1 div.sk-parallel {display: flex;align-items: stretch;justify-content: center;background-color: white;position: relative;}#sk-container-id-1 div.sk-item::before, #sk-container-id-1 div.sk-parallel-item::before {content: \"\";position: absolute;border-left: 1px solid gray;box-sizing: border-box;top: 0;bottom: 0;left: 50%;z-index: -1;}#sk-container-id-1 div.sk-parallel-item {display: flex;flex-direction: column;z-index: 1;position: relative;background-color: white;}#sk-container-id-1 div.sk-parallel-item:first-child::after {align-self: flex-end;width: 50%;}#sk-container-id-1 div.sk-parallel-item:last-child::after {align-self: flex-start;width: 50%;}#sk-container-id-1 div.sk-parallel-item:only-child::after {width: 0;}#sk-container-id-1 div.sk-dashed-wrapped {border: 1px dashed gray;margin: 0 0.4em 0.5em 0.4em;box-sizing: border-box;padding-bottom: 0.4em;background-color: white;}#sk-container-id-1 div.sk-label label {font-family: monospace;font-weight: bold;display: inline-block;line-height: 1.2em;}#sk-container-id-1 div.sk-label-container {text-align: center;}#sk-container-id-1 div.sk-container {/* jupyter's `normalize.less` sets `[hidden] { display: none; }` but bootstrap.min.css set `[hidden] { display: none !important; }` so we also need the `!important` here to be able to override the default hidden behavior on the sphinx rendered scikit-learn.org. See: https://github.com/scikit-learn/scikit-learn/issues/21755 */display: inline-block !important;position: relative;}#sk-container-id-1 div.sk-text-repr-fallback {display: none;}</style><div id=\"sk-container-id-1\" class=\"sk-top-container\"><div class=\"sk-text-repr-fallback\"><pre>LogisticRegression(C=5.263252631578947)</pre><b>In a Jupyter environment, please rerun this cell to show the HTML representation or trust the notebook. <br />On GitHub, the HTML representation is unable to render, please try loading this page with nbviewer.org.</b></div><div class=\"sk-container\" hidden><div class=\"sk-item\"><div class=\"sk-estimator sk-toggleable\"><input class=\"sk-toggleable__control sk-hidden--visually\" id=\"sk-estimator-id-1\" type=\"checkbox\" checked><label for=\"sk-estimator-id-1\" class=\"sk-toggleable__label sk-toggleable__label-arrow\">LogisticRegression</label><div class=\"sk-toggleable__content\"><pre>LogisticRegression(C=5.263252631578947)</pre></div></div></div></div></div>"
            ]
          },
          "metadata": {},
          "execution_count": 31
        }
      ],
      "source": [
        "lr_clf.fit(train_features, train_labels)"
      ]
    },
    {
      "cell_type": "code",
      "execution_count": null,
      "metadata": {
        "id": "SCrTCYYIQWr1",
        "colab": {
          "base_uri": "https://localhost:8080/"
        },
        "outputId": "a4ed7789-4f58-4395-99a8-2b9fa895d6c8"
      },
      "outputs": [
        {
          "output_type": "execute_result",
          "data": {
            "text/plain": [
              "0.6500994035785288"
            ]
          },
          "metadata": {},
          "execution_count": 32
        }
      ],
      "source": [
        "lr_clf.score(test_features, test_labels)"
      ]
    },
    {
      "cell_type": "code",
      "execution_count": null,
      "metadata": {
        "id": "wQpOfqnXQc66"
      },
      "outputs": [],
      "source": [
        "predictions = lr_clf.predict(test_features)"
      ]
    },
    {
      "cell_type": "code",
      "execution_count": null,
      "metadata": {
        "id": "mPFuIgWpTwfn",
        "colab": {
          "base_uri": "https://localhost:8080/"
        },
        "outputId": "32b84c82-3ae7-403d-cc1e-ed2a558cf8de"
      },
      "outputs": [
        {
          "output_type": "execute_result",
          "data": {
            "text/plain": [
              "array([1., 1., 1., 7., 4., 1., 3., 3., 3., 3., 4., 6., 2., 7., 1., 6., 1.,\n",
              "       1., 4., 4., 4., 4., 1., 4., 3., 4., 1., 3., 2., 1., 3., 3., 1., 4.,\n",
              "       6., 2., 4., 4., 4., 4., 1., 2., 4., 6., 6., 1., 4., 4., 1., 1., 4.,\n",
              "       6., 2., 1., 7., 6., 7., 1., 1., 6., 3., 1., 7., 2., 4., 4., 3., 7.,\n",
              "       2., 2., 7., 2., 1., 3., 3., 1., 2., 4., 6., 1., 1., 4., 6., 4., 7.,\n",
              "       4., 1., 6., 4., 4., 2., 4., 4., 4., 4., 1., 1., 1., 7., 1., 1., 4.,\n",
              "       1., 7., 6., 4., 3., 2., 4., 4., 6., 3., 1., 1., 2., 2., 1., 1., 4.,\n",
              "       4., 7., 6., 3., 2., 4., 1., 1., 4., 1., 3., 1., 6., 1., 6., 4., 4.,\n",
              "       6., 6., 4., 1., 1., 4., 6., 4., 1., 2., 2., 1., 4., 2., 3., 4., 6.,\n",
              "       1., 3., 1., 4., 4., 1., 6., 4., 7., 1., 1., 1., 1., 2., 1., 1., 7.,\n",
              "       6., 4., 1., 1., 1., 6., 6., 3., 2., 1., 1., 6., 4., 3., 2., 4., 6.,\n",
              "       6., 1., 3., 4., 6., 2., 2., 6., 6., 4., 7., 4., 1., 4., 7., 6., 4.,\n",
              "       6., 4., 1., 1., 3., 6., 1., 4., 1., 1., 7., 6., 1., 1., 2., 4., 1.,\n",
              "       6., 6., 2., 4., 2., 4., 4., 4., 6., 4., 4., 1., 1., 4., 4., 2., 6.,\n",
              "       1., 4., 2., 1., 6., 4., 3., 1., 4., 2., 4., 6., 1., 1., 2., 3., 1.,\n",
              "       3., 1., 4., 7., 4., 4., 7., 6., 7., 1., 1., 4., 4., 1., 3., 4., 1.,\n",
              "       1., 1., 3., 1., 1., 7., 1., 2., 1., 6., 4., 1., 1., 1., 1., 4., 4.,\n",
              "       6., 3., 6., 4., 1., 2., 1., 4., 4., 1., 4., 1., 4., 6., 4., 7., 1.,\n",
              "       1., 4., 7., 2., 1., 1., 4., 4., 7., 4., 4., 2., 6., 1., 3., 4., 6.,\n",
              "       4., 6., 4., 7., 3., 4., 7., 6., 6., 2., 4., 4., 2., 1., 1., 6., 1.,\n",
              "       1., 1., 4., 4., 1., 2., 1., 1., 2., 4., 6., 6., 2., 1., 4., 1., 4.,\n",
              "       6., 3., 6., 4., 2., 4., 7., 4., 2., 3., 4., 3., 6., 1., 2., 2., 6.,\n",
              "       2., 6., 1., 4., 6., 1., 3., 4., 4., 4., 4., 6., 6., 7., 4., 1., 4.,\n",
              "       6., 4., 3., 1., 1., 7., 2., 1., 4., 7., 3., 3., 4., 4., 6., 7., 4.,\n",
              "       2., 2., 4., 1., 3., 7., 4., 1., 4., 4., 4., 6., 1., 1., 7., 4., 2.,\n",
              "       2., 1., 1., 4., 4., 2., 1., 3., 6., 2., 7., 4., 1., 1., 6., 6., 1.,\n",
              "       4., 4., 4., 2., 2., 4., 1., 4., 2., 1., 1., 1., 4., 4., 2., 4., 4.,\n",
              "       1., 1., 6., 4., 4., 1., 1., 2., 4., 6., 1., 4., 4., 4., 4., 6., 3.,\n",
              "       7., 7., 4., 2., 1., 2., 4., 6., 6., 7., 1., 1., 4., 7., 4., 4., 6.,\n",
              "       4., 1., 4., 3., 6., 4., 6., 4., 3., 1.])"
            ]
          },
          "metadata": {},
          "execution_count": 34
        }
      ],
      "source": [
        "predictions"
      ]
    },
    {
      "cell_type": "code",
      "execution_count": null,
      "metadata": {
        "id": "D-0mnXBQT1vv",
        "colab": {
          "base_uri": "https://localhost:8080/"
        },
        "outputId": "f11230ce-7d42-4369-8bc2-08d19779da3b"
      },
      "outputs": [
        {
          "output_type": "stream",
          "name": "stdout",
          "text": [
            "0.6500994035785288\n"
          ]
        }
      ],
      "source": [
        "from sklearn.metrics import accuracy_score\n",
        "print(accuracy_score(test_labels, predictions))"
      ]
    },
    {
      "cell_type": "code",
      "execution_count": null,
      "metadata": {
        "id": "OM3YMA3Q3ELV"
      },
      "outputs": [],
      "source": [
        "def transform(df):\n",
        "  tokenized = df['Sentence'].apply((lambda x: tokenizer.encode(x, add_special_tokens=True)))\n",
        "  max_len = 0\n",
        "  for i in tokenized.values:\n",
        "    if len(i) > max_len:\n",
        "        max_len = len(i)\n",
        "\n",
        "  padded = np.array([i + [0]*(max_len-len(i)) for i in tokenized.values])\n",
        "  attention_mask = np.where(padded != 0, 1, 0)\n",
        "  input_ids = torch.tensor(padded)  \n",
        "  attention_mask = torch.tensor(attention_mask)\n",
        "\n",
        "  with torch.no_grad():\n",
        "    last_hidden_states = model(input_ids, attention_mask=attention_mask)\n",
        "  features = last_hidden_states[0][:,0,:].numpy()\n",
        "  return features"
      ]
    },
    {
      "cell_type": "code",
      "execution_count": null,
      "metadata": {
        "id": "RGPTT9El8mam"
      },
      "outputs": [],
      "source": [
        "import pickle\n",
        "with open('lr_clf_model', 'wb') as files:\n",
        "    pickle.dump(lr_clf, files)"
      ]
    },
    {
      "cell_type": "code",
      "execution_count": null,
      "metadata": {
        "id": "GzS3J_PMrhw8"
      },
      "outputs": [],
      "source": [
        "import pickle\n",
        "with open('/content/drive/MyDrive/ED/Pretrained models/lr_clf_model' , 'rb') as f:\n",
        "    lr_clf_2 = pickle.load(f)"
      ]
    },
    {
      "cell_type": "code",
      "execution_count": null,
      "metadata": {
        "id": "OqXuK5UkrN_H"
      },
      "outputs": [],
      "source": [
        "embed_array = ['__', 'normal_embed', 'angry_embed', 'fear_embed', 'happy_embed', '__', 'sad_embed', 'suprise_embed']"
      ]
    },
    {
      "cell_type": "code",
      "execution_count": null,
      "metadata": {
        "id": "zv6HMa2atCxG",
        "colab": {
          "base_uri": "https://localhost:8080/"
        },
        "outputId": "71d84e7d-739f-422d-e733-91771e4de64e"
      },
      "outputs": [
        {
          "output_type": "stream",
          "name": "stdout",
          "text": [
            "Colab only includes TensorFlow 2.x; %tensorflow_version has no effect.\n",
            "Looking in indexes: https://pypi.org/simple, https://us-python.pkg.dev/colab-wheels/public/simple/\n",
            "Collecting unidecode\n",
            "  Downloading Unidecode-1.3.6-py3-none-any.whl (235 kB)\n",
            "\u001b[2K     \u001b[90m━━━━━━━━━━━━━━━━━━━━━━━━━━━━━━━━━━━━━━\u001b[0m \u001b[32m235.9/235.9 kB\u001b[0m \u001b[31m13.6 MB/s\u001b[0m eta \u001b[36m0:00:00\u001b[0m\n",
            "\u001b[?25hInstalling collected packages: unidecode\n",
            "Successfully installed unidecode-1.3.6\n",
            "\u001b[2K     \u001b[90m━━━━━━━━━━━━━━━━━━━━━━━━━━━━━━━━━━━━━━\u001b[0m \u001b[32m203.8/203.8 kB\u001b[0m \u001b[31m18.1 MB/s\u001b[0m eta \u001b[36m0:00:00\u001b[0m\n",
            "\u001b[2K     \u001b[90m━━━━━━━━━━━━━━━━━━━━━━━━━━━━━━━━━━━━━━━\u001b[0m \u001b[32m11.9/11.9 MB\u001b[0m \u001b[31m111.0 MB/s\u001b[0m eta \u001b[36m0:00:00\u001b[0m\n",
            "\u001b[2K     \u001b[90m━━━━━━━━━━━━━━━━━━━━━━━━━━━━━━━━━━━━━━━━\u001b[0m \u001b[32m7.8/7.8 MB\u001b[0m \u001b[31m89.1 MB/s\u001b[0m eta \u001b[36m0:00:00\u001b[0m\n",
            "\u001b[?25h  Installing build dependencies ... \u001b[?25l\u001b[?25hdone\n",
            "  Getting requirements to build wheel ... \u001b[?25l\u001b[?25hdone\n",
            "  Preparing metadata (pyproject.toml) ... \u001b[?25l\u001b[?25hdone\n",
            "\u001b[2K     \u001b[90m━━━━━━━━━━━━━━━━━━━━━━━━━━━━━━━━━━━━━━━━\u001b[0m \u001b[32m8.3/8.3 MB\u001b[0m \u001b[31m75.9 MB/s\u001b[0m eta \u001b[36m0:00:00\u001b[0m\n",
            "\u001b[2K     \u001b[90m━━━━━━━━━━━━━━━━━━━━━━━━━━━━━━━━━━━━━━━━\u001b[0m \u001b[32m26.5/26.5 MB\u001b[0m \u001b[31m26.1 MB/s\u001b[0m eta \u001b[36m0:00:00\u001b[0m\n",
            "\u001b[2K     \u001b[90m━━━━━━━━━━━━━━━━━━━━━━━━━━━━━━━━━━━━━━━━\u001b[0m \u001b[32m39.9/39.9 MB\u001b[0m \u001b[31m22.3 MB/s\u001b[0m eta \u001b[36m0:00:00\u001b[0m\n",
            "\u001b[2K     \u001b[90m━━━━━━━━━━━━━━━━━━━━━━━━━━━━━━━━━━━━━━━━\u001b[0m \u001b[32m76.2/76.2 kB\u001b[0m \u001b[31m8.1 MB/s\u001b[0m eta \u001b[36m0:00:00\u001b[0m\n",
            "\u001b[2K     \u001b[90m━━━━━━━━━━━━━━━━━━━━━━━━━━━━━━━━━━━━━━━━\u001b[0m \u001b[32m86.8/86.8 kB\u001b[0m \u001b[31m8.4 MB/s\u001b[0m eta \u001b[36m0:00:00\u001b[0m\n",
            "\u001b[?25h  Preparing metadata (setup.py) ... \u001b[?25l\u001b[?25hdone\n",
            "\u001b[2K     \u001b[90m━━━━━━━━━━━━━━━━━━━━━━━━━━━━━━━━━━━━━━\u001b[0m \u001b[32m235.7/235.7 kB\u001b[0m \u001b[31m20.1 MB/s\u001b[0m eta \u001b[36m0:00:00\u001b[0m\n",
            "\u001b[2K     \u001b[90m━━━━━━━━━━━━━━━━━━━━━━━━━━━━━━━━━━━━━━\u001b[0m \u001b[32m138.8/138.8 kB\u001b[0m \u001b[31m11.1 MB/s\u001b[0m eta \u001b[36m0:00:00\u001b[0m\n",
            "\u001b[2K     \u001b[90m━━━━━━━━━━━━━━━━━━━━━━━━━━━━━━━━━━━━━━\u001b[0m \u001b[32m676.6/676.6 kB\u001b[0m \u001b[31m39.3 MB/s\u001b[0m eta \u001b[36m0:00:00\u001b[0m\n",
            "\u001b[?25h  Preparing metadata (setup.py) ... \u001b[?25l\u001b[?25hdone\n",
            "\u001b[2K     \u001b[90m━━━━━━━━━━━━━━━━━━━━━━━━━━━━━━━━━━━━━━━━\u001b[0m \u001b[32m66.2/66.2 kB\u001b[0m \u001b[31m5.3 MB/s\u001b[0m eta \u001b[36m0:00:00\u001b[0m\n",
            "\u001b[?25h  Preparing metadata (setup.py) ... \u001b[?25l\u001b[?25hdone\n",
            "\u001b[2K     \u001b[90m━━━━━━━━━━━━━━━━━━━━━━━━━━━━━━━━━━━━━━━━\u001b[0m \u001b[32m3.1/3.1 MB\u001b[0m \u001b[31m84.2 MB/s\u001b[0m eta \u001b[36m0:00:00\u001b[0m\n",
            "\u001b[2K     \u001b[90m━━━━━━━━━━━━━━━━━━━━━━━━━━━━━━━━━━━━━━\u001b[0m \u001b[32m360.5/360.5 kB\u001b[0m \u001b[31m33.0 MB/s\u001b[0m eta \u001b[36m0:00:00\u001b[0m\n",
            "\u001b[2K     \u001b[90m━━━━━━━━━━━━━━━━━━━━━━━━━━━━━━━━━━━━━━━━\u001b[0m \u001b[32m59.9/59.9 MB\u001b[0m \u001b[31m12.1 MB/s\u001b[0m eta \u001b[36m0:00:00\u001b[0m\n",
            "\u001b[2K     \u001b[90m━━━━━━━━━━━━━━━━━━━━━━━━━━━━━━━━━━━━━━━━\u001b[0m \u001b[32m1.1/1.1 MB\u001b[0m \u001b[31m55.9 MB/s\u001b[0m eta \u001b[36m0:00:00\u001b[0m\n",
            "\u001b[?25h  Preparing metadata (setup.py) ... \u001b[?25l\u001b[?25hdone\n",
            "  Preparing metadata (setup.py) ... \u001b[?25l\u001b[?25hdone\n",
            "  \u001b[1;31merror\u001b[0m: \u001b[1msubprocess-exited-with-error\u001b[0m\n",
            "  \n",
            "  \u001b[31m×\u001b[0m \u001b[32mBuilding wheel for numpy \u001b[0m\u001b[1;32m(\u001b[0m\u001b[32mpyproject.toml\u001b[0m\u001b[1;32m)\u001b[0m did not run successfully.\n",
            "  \u001b[31m│\u001b[0m exit code: \u001b[1;36m1\u001b[0m\n",
            "  \u001b[31m╰─>\u001b[0m See above for output.\n",
            "  \n",
            "  \u001b[1;35mnote\u001b[0m: This error originates from a subprocess, and is likely not a problem with pip.\n",
            "  Building wheel for numpy (pyproject.toml) ... \u001b[?25l\u001b[?25herror\n",
            "\u001b[31m  ERROR: Failed building wheel for numpy\u001b[0m\u001b[31m\n",
            "\u001b[0m  Building wheel for umap-learn (setup.py) ... \u001b[?25l\u001b[?25hdone\n",
            "  Building wheel for visdom (setup.py) ... \u001b[?25l\u001b[?25hdone\n",
            "  Building wheel for webrtcvad (setup.py) ... \u001b[?25l\u001b[?25hdone\n",
            "  Building wheel for pynndescent (setup.py) ... \u001b[?25l\u001b[?25hdone\n",
            "  Building wheel for torchfile (setup.py) ... \u001b[?25l\u001b[?25hdone\n",
            "\u001b[31mERROR: Could not build wheels for numpy, which is required to install pyproject.toml-based projects\u001b[0m\u001b[31m\n",
            "\u001b[0mSelecting previously unselected package libportaudio2:amd64.\n",
            "(Reading database ... 122542 files and directories currently installed.)\n",
            "Preparing to unpack .../libportaudio2_19.6.0-1build1_amd64.deb ...\n",
            "Unpacking libportaudio2:amd64 (19.6.0-1build1) ...\n",
            "Setting up libportaudio2:amd64 (19.6.0-1build1) ...\n",
            "Processing triggers for libc-bin (2.31-0ubuntu9.9) ...\n",
            "\u001b[2K     \u001b[32m-\u001b[0m \u001b[32m3.0 kB\u001b[0m \u001b[31m?\u001b[0m \u001b[33m0:00:00\u001b[0m\n",
            "\u001b[?25h  Preparing metadata (setup.py) ... \u001b[?25l\u001b[?25hdone\n",
            "  Building wheel for Deep-Learning-Colab-Notebook-Utils (setup.py) ... \u001b[?25l\u001b[?25hdone\n",
            "Loaded encoder \"encoder.pt\" trained to step 1564501\n",
            "Synthesizer using device: cpu\n",
            "Building Wave-RNN\n",
            "Trainable Parameters: 4.481M\n",
            "Loading model weights at /content/drive/MyDrive/ED/Pretrained models/vocoder.pt\n"
          ]
        }
      ],
      "source": [
        "%tensorflow_version 2.x\n",
        "!pip install unidecode\n",
        "import os\n",
        "from os.path import exists, join, basename, splitext\n",
        "git_repo_url = 'https://github.com/CorentinJ/Real-Time-Voice-Cloning.git'\n",
        "project_name = splitext(basename(git_repo_url))[0]\n",
        "if not exists(project_name):\n",
        "  # clone and install\n",
        "  !git clone -q --recursive {git_repo_url}\n",
        "  # install dependencies\n",
        "  !cd {project_name} && pip install -q -r requirements.txt\n",
        "  !pip install -q gdown\n",
        "  !apt-get install -qq libportaudio2\n",
        "  !pip install -q https://github.com/tugstugi/dl-colab-notebooks/archive/colab_utils.zip\n",
        "\n",
        "import sys\n",
        "sys.path.append(project_name)\n",
        "\n",
        "from IPython.display import display, Audio, clear_output\n",
        "from IPython.utils import io\n",
        "import ipywidgets as widgets\n",
        "import numpy as np\n",
        "from dl_colab_notebooks.audio import record_audio, upload_audio\n",
        "\n",
        "from synthesizer.inference import Synthesizer\n",
        "from encoder import inference as encoder\n",
        "from vocoder import inference as vocoder\n",
        "from pathlib import Path\n",
        "\n",
        "encoder.load_model(Path(\"/content/drive/MyDrive/ED/Pretrained models/encoder.pt\"))\n",
        "synthesizer = Synthesizer(Path(\"/content/drive/MyDrive/ED/Pretrained models/synthesizer.pt\"))\n",
        "vocoder.load_model(Path(\"/content/drive/MyDrive/ED/Pretrained models/vocoder.pt\"))"
      ]
    },
    {
      "cell_type": "code",
      "execution_count": null,
      "metadata": {
        "id": "QZXCoBUyuRcy"
      },
      "outputs": [],
      "source": [
        "def synthesize(embed, text):\n",
        "  print(\"Synthesizing new audio...\")\n",
        "  #with io.capture_output() as captured:\n",
        "  specs = synthesizer.synthesize_spectrograms([text], [embed])\n",
        "  generated_wav = vocoder.infer_waveform(specs[0])\n",
        "  generated_wav = np.pad(generated_wav, (0, synthesizer.sample_rate), mode=\"constant\")\n",
        "  clear_output()\n",
        "  display(Audio(generated_wav, rate=synthesizer.sample_rate, autoplay=True))\n"
      ]
    },
    {
      "cell_type": "code",
      "execution_count": null,
      "metadata": {
        "id": "_O4CdIs22yhp"
      },
      "outputs": [],
      "source": [
        "Sentence_list = ['''The sun shines''']\n",
        "values = {'Sentence':  Sentence_list}\n",
        "test_data = pd.DataFrame(values)\n",
        "test_feature = transform(test_data)"
      ]
    },
    {
      "cell_type": "code",
      "execution_count": null,
      "metadata": {
        "id": "L4PG-8hz71Nw"
      },
      "outputs": [],
      "source": [
        "prediction = lr_clf_2.predict(test_feature)"
      ]
    },
    {
      "cell_type": "code",
      "execution_count": null,
      "metadata": {
        "id": "G83PVrNl8DVA",
        "colab": {
          "base_uri": "https://localhost:8080/"
        },
        "outputId": "de2bd37f-add6-415d-c65d-ebdc53b0d188"
      },
      "outputs": [
        {
          "output_type": "execute_result",
          "data": {
            "text/plain": [
              "array([4.])"
            ]
          },
          "metadata": {},
          "execution_count": 44
        }
      ],
      "source": [
        "prediction"
      ]
    },
    {
      "cell_type": "code",
      "execution_count": null,
      "metadata": {
        "id": "FlgI0_ul6Ns7"
      },
      "outputs": [],
      "source": [
        "embed = Path(\"/content/drive/MyDrive/ED/Pretrained models/\" + embed_array[int(prediction[0])])"
      ]
    },
    {
      "cell_type": "code",
      "execution_count": null,
      "metadata": {
        "id": "Xqhv-oec6DrU"
      },
      "outputs": [],
      "source": [
        "with open(embed , 'rb') as f:\n",
        "    embedding_emo = pickle.load(f)"
      ]
    },
    {
      "cell_type": "code",
      "execution_count": null,
      "metadata": {
        "id": "TxB-o7jkvVmk",
        "colab": {
          "base_uri": "https://localhost:8080/",
          "height": 76
        },
        "outputId": "8e384114-2185-470e-f1b2-2ec1410ff7af"
      },
      "outputs": [
        {
          "output_type": "display_data",
          "data": {
            "text/plain": [
              "<IPython.lib.display.Audio object>"
            ],
            "text/html": [
              "\n",
              "                <audio  controls=\"controls\" autoplay=\"autoplay\">\n",
              "                    <source src=\"data:audio/wav;base64,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\" type=\"audio/wav\" />\n",
              "                    Your browser does not support the audio element.\n",
              "                </audio>\n",
              "              "
            ]
          },
          "metadata": {}
        }
      ],
      "source": [
        "synthesize(embedding_emo, Sentence_list[0])"
      ]
    },
    {
      "cell_type": "code",
      "execution_count": null,
      "metadata": {
        "id": "NtSgwKr_FUsM",
        "colab": {
          "base_uri": "https://localhost:8080/"
        },
        "outputId": "f6e6502f-26a2-4d4e-899a-edda62018e71"
      },
      "outputs": [
        {
          "output_type": "stream",
          "name": "stdout",
          "text": [
            "================= SVM =================\n",
            "[1. 1. 1. 7. 4. 1. 3. 3. 3. 3. 4. 6. 2. 7. 1. 1. 1. 1. 4. 4. 4. 3. 1. 4.\n",
            " 3. 4. 7. 1. 2. 1. 2. 3. 1. 4. 4. 2. 4. 6. 4. 1. 1. 2. 4. 6. 6. 1. 4. 2.\n",
            " 1. 1. 4. 6. 2. 1. 7. 6. 2. 1. 1. 6. 3. 1. 7. 2. 4. 4. 3. 7. 2. 2. 7. 2.\n",
            " 1. 2. 3. 1. 6. 4. 1. 1. 1. 6. 6. 4. 2. 4. 1. 3. 4. 4. 2. 4. 4. 3. 4. 1.\n",
            " 1. 1. 7. 1. 1. 4. 1. 7. 4. 4. 3. 2. 4. 1. 2. 2. 1. 1. 2. 2. 1. 1. 4. 4.\n",
            " 7. 2. 2. 2. 4. 1. 1. 4. 1. 3. 1. 6. 1. 6. 4. 6. 6. 6. 1. 1. 3. 4. 3. 4.\n",
            " 7. 2. 2. 1. 1. 2. 7. 4. 6. 1. 2. 4. 4. 4. 1. 1. 4. 7. 1. 1. 1. 1. 2. 1.\n",
            " 1. 7. 6. 4. 1. 1. 1. 6. 3. 4. 2. 1. 1. 6. 4. 3. 2. 4. 6. 6. 1. 3. 4. 6.\n",
            " 6. 3. 1. 3. 7. 4. 4. 1. 4. 7. 6. 4. 6. 4. 1. 1. 1. 6. 1. 7. 1. 1. 3. 6.\n",
            " 1. 1. 2. 4. 1. 3. 6. 2. 3. 2. 4. 1. 4. 6. 4. 3. 1. 1. 4. 4. 2. 4. 1. 4.\n",
            " 2. 1. 4. 3. 3. 1. 4. 2. 4. 4. 1. 1. 2. 2. 1. 3. 1. 2. 7. 4. 4. 7. 3. 7.\n",
            " 1. 1. 4. 6. 1. 3. 4. 1. 1. 1. 3. 1. 1. 7. 1. 2. 1. 6. 4. 7. 1. 1. 2. 4.\n",
            " 4. 6. 3. 6. 4. 1. 2. 1. 4. 7. 1. 4. 1. 4. 6. 3. 7. 1. 1. 4. 3. 2. 1. 1.\n",
            " 6. 6. 7. 4. 4. 2. 2. 1. 3. 4. 6. 4. 6. 6. 7. 3. 4. 4. 1. 6. 2. 4. 4. 2.\n",
            " 1. 1. 6. 1. 1. 4. 4. 4. 1. 2. 1. 1. 6. 4. 4. 6. 2. 1. 4. 1. 4. 1. 3. 6.\n",
            " 1. 2. 6. 7. 4. 2. 3. 4. 3. 3. 1. 2. 2. 3. 2. 6. 1. 4. 6. 1. 3. 4. 4. 4.\n",
            " 4. 6. 2. 7. 7. 1. 4. 6. 1. 7. 1. 1. 7. 7. 1. 6. 7. 3. 3. 4. 4. 1. 7. 6.\n",
            " 2. 2. 4. 1. 3. 7. 4. 1. 4. 7. 4. 6. 1. 1. 7. 4. 4. 2. 1. 1. 3. 7. 2. 2.\n",
            " 2. 4. 2. 7. 4. 1. 1. 6. 3. 1. 4. 4. 3. 2. 2. 4. 1. 4. 2. 1. 1. 1. 4. 4.\n",
            " 2. 1. 3. 1. 1. 6. 4. 4. 1. 1. 3. 3. 6. 1. 4. 4. 4. 4. 6. 1. 7. 7. 4. 6.\n",
            " 1. 2. 4. 2. 6. 7. 1. 1. 4. 7. 6. 4. 1. 4. 1. 4. 7. 6. 4. 3. 1. 3. 1.]\n",
            "0.6361829025844931\n"
          ]
        }
      ],
      "source": [
        "print(\"================= SVM =================\")\n",
        "from sklearn import svm\n",
        "\n",
        "#Create a svm Classifier\n",
        "lr_clf = svm.SVC(kernel='linear') # Linear Kernel\n",
        "lr_clf.fit(train_features, train_labels)\n",
        "lr_clf.score(test_features, test_labels)\n",
        "predictions = lr_clf.predict(test_features)\n",
        "print(predictions)\n",
        "from sklearn.metrics import accuracy_score\n",
        "print(accuracy_score(test_labels, predictions))\n",
        "\n",
        "\n"
      ]
    },
    {
      "cell_type": "code",
      "execution_count": null,
      "metadata": {
        "id": "Jh0DUby4FaDN",
        "colab": {
          "base_uri": "https://localhost:8080/"
        },
        "outputId": "db3b6cb0-c7e1-4497-fb32-772d69c2d821"
      },
      "outputs": [
        {
          "output_type": "stream",
          "name": "stdout",
          "text": [
            "=================RandomForestClassifier =================\n",
            "[1. 1. 1. 1. 4. 1. 4. 6. 4. 3. 1. 6. 4. 4. 1. 1. 1. 1. 1. 1. 4. 3. 4. 4.\n",
            " 6. 4. 4. 1. 6. 1. 2. 1. 1. 4. 4. 2. 4. 2. 1. 1. 1. 6. 4. 6. 4. 1. 4. 4.\n",
            " 1. 1. 1. 4. 2. 1. 1. 6. 2. 1. 1. 6. 6. 1. 4. 4. 2. 4. 6. 1. 2. 1. 4. 4.\n",
            " 1. 1. 3. 1. 6. 4. 1. 1. 1. 6. 1. 1. 4. 4. 1. 6. 2. 1. 2. 4. 4. 6. 4. 1.\n",
            " 1. 1. 4. 1. 1. 4. 1. 7. 4. 4. 6. 4. 4. 4. 4. 7. 1. 1. 4. 4. 1. 1. 6. 4.\n",
            " 4. 4. 4. 1. 4. 1. 1. 4. 4. 4. 1. 6. 1. 6. 4. 4. 4. 4. 4. 1. 1. 1. 4. 4.\n",
            " 1. 4. 6. 1. 4. 1. 7. 4. 4. 4. 6. 1. 4. 4. 1. 4. 4. 1. 1. 1. 1. 1. 3. 1.\n",
            " 4. 4. 4. 4. 1. 1. 1. 6. 4. 4. 6. 1. 1. 1. 4. 2. 4. 4. 6. 6. 1. 1. 4. 4.\n",
            " 6. 6. 1. 1. 4. 4. 4. 1. 4. 4. 6. 4. 2. 1. 1. 1. 1. 6. 1. 4. 1. 1. 6. 6.\n",
            " 1. 1. 4. 1. 1. 6. 6. 2. 4. 1. 4. 1. 4. 3. 4. 4. 1. 1. 4. 4. 2. 6. 1. 4.\n",
            " 2. 1. 2. 2. 1. 1. 4. 4. 3. 4. 1. 1. 2. 6. 1. 6. 1. 4. 4. 4. 4. 1. 2. 1.\n",
            " 1. 1. 4. 4. 1. 4. 4. 1. 1. 1. 1. 1. 1. 1. 1. 7. 1. 1. 4. 1. 1. 1. 4. 1.\n",
            " 4. 4. 2. 1. 4. 1. 1. 1. 4. 4. 1. 1. 1. 4. 1. 4. 4. 1. 1. 4. 4. 4. 1. 1.\n",
            " 4. 4. 4. 4. 1. 4. 2. 1. 1. 1. 6. 4. 6. 6. 3. 4. 4. 4. 1. 4. 1. 4. 4. 4.\n",
            " 1. 1. 4. 4. 1. 4. 4. 4. 1. 4. 1. 1. 2. 4. 4. 6. 4. 1. 4. 1. 4. 1. 1. 1.\n",
            " 1. 3. 1. 1. 4. 1. 4. 4. 3. 4. 1. 2. 4. 1. 1. 4. 1. 4. 1. 1. 2. 4. 4. 4.\n",
            " 4. 1. 6. 2. 4. 1. 4. 6. 4. 4. 1. 1. 2. 1. 1. 4. 2. 6. 1. 4. 1. 1. 4. 4.\n",
            " 4. 6. 4. 1. 3. 1. 4. 1. 4. 4. 4. 6. 1. 1. 6. 4. 4. 6. 1. 1. 2. 1. 4. 1.\n",
            " 4. 1. 4. 1. 1. 1. 1. 1. 6. 1. 4. 4. 4. 4. 2. 4. 1. 4. 4. 1. 1. 1. 4. 4.\n",
            " 2. 1. 4. 1. 1. 4. 4. 1. 1. 1. 7. 2. 4. 1. 4. 4. 1. 4. 1. 1. 4. 4. 4. 4.\n",
            " 1. 7. 4. 6. 6. 2. 4. 1. 4. 1. 4. 4. 1. 4. 1. 4. 4. 6. 4. 6. 1. 6. 1.]\n",
            "0.5288270377733598\n"
          ]
        }
      ],
      "source": [
        "print(\"=================RandomForestClassifier =================\")\n",
        "from sklearn.ensemble import RandomForestClassifier\n",
        "lr_clf = RandomForestClassifier(n_estimators=50, criterion=\"entropy\")\n",
        "lr_clf.fit(train_features, train_labels)\n",
        "lr_clf.score(test_features, test_labels)\n",
        "predictions = lr_clf.predict(test_features)\n",
        "print(predictions)\n",
        "print(accuracy_score(test_labels, predictions))"
      ]
    }
  ],
  "metadata": {
    "colab": {
      "provenance": [],
      "include_colab_link": true
    },
    "gpuClass": "standard",
    "kernelspec": {
      "display_name": "Python 3",
      "name": "python3"
    },
    "language_info": {
      "name": "python"
    },
    "widgets": {
      "application/vnd.jupyter.widget-state+json": {
        "93b2fd68889b4d5fad9ed7610f932d23": {
          "model_module": "@jupyter-widgets/controls",
          "model_name": "HBoxModel",
          "model_module_version": "1.5.0",
          "state": {
            "_dom_classes": [],
            "_model_module": "@jupyter-widgets/controls",
            "_model_module_version": "1.5.0",
            "_model_name": "HBoxModel",
            "_view_count": null,
            "_view_module": "@jupyter-widgets/controls",
            "_view_module_version": "1.5.0",
            "_view_name": "HBoxView",
            "box_style": "",
            "children": [
              "IPY_MODEL_2bc07c8248fc4d6489ebf3db8f480d7a",
              "IPY_MODEL_6c41a02625af418e8a25a788245c36bb",
              "IPY_MODEL_80b096e39e9743ac965f6de1c1cac83b"
            ],
            "layout": "IPY_MODEL_9ca24e194c0c4744953f31891ab159e6"
          }
        },
        "2bc07c8248fc4d6489ebf3db8f480d7a": {
          "model_module": "@jupyter-widgets/controls",
          "model_name": "HTMLModel",
          "model_module_version": "1.5.0",
          "state": {
            "_dom_classes": [],
            "_model_module": "@jupyter-widgets/controls",
            "_model_module_version": "1.5.0",
            "_model_name": "HTMLModel",
            "_view_count": null,
            "_view_module": "@jupyter-widgets/controls",
            "_view_module_version": "1.5.0",
            "_view_name": "HTMLView",
            "description": "",
            "description_tooltip": null,
            "layout": "IPY_MODEL_1d4a43f741ec4895894a308496288229",
            "placeholder": "​",
            "style": "IPY_MODEL_883d67a6f7aa4cf98bcabdd4a5e2a0ae",
            "value": "Downloading (…)solve/main/vocab.txt: 100%"
          }
        },
        "6c41a02625af418e8a25a788245c36bb": {
          "model_module": "@jupyter-widgets/controls",
          "model_name": "FloatProgressModel",
          "model_module_version": "1.5.0",
          "state": {
            "_dom_classes": [],
            "_model_module": "@jupyter-widgets/controls",
            "_model_module_version": "1.5.0",
            "_model_name": "FloatProgressModel",
            "_view_count": null,
            "_view_module": "@jupyter-widgets/controls",
            "_view_module_version": "1.5.0",
            "_view_name": "ProgressView",
            "bar_style": "success",
            "description": "",
            "description_tooltip": null,
            "layout": "IPY_MODEL_f9974bdc38714a10a5d78042311d57c4",
            "max": 231508,
            "min": 0,
            "orientation": "horizontal",
            "style": "IPY_MODEL_980604c64e7742bc96d734ee0672dc53",
            "value": 231508
          }
        },
        "80b096e39e9743ac965f6de1c1cac83b": {
          "model_module": "@jupyter-widgets/controls",
          "model_name": "HTMLModel",
          "model_module_version": "1.5.0",
          "state": {
            "_dom_classes": [],
            "_model_module": "@jupyter-widgets/controls",
            "_model_module_version": "1.5.0",
            "_model_name": "HTMLModel",
            "_view_count": null,
            "_view_module": "@jupyter-widgets/controls",
            "_view_module_version": "1.5.0",
            "_view_name": "HTMLView",
            "description": "",
            "description_tooltip": null,
            "layout": "IPY_MODEL_127d73b1abcf4e49ad9cebd95e05d198",
            "placeholder": "​",
            "style": "IPY_MODEL_ef45af0413884a9a8c97452436d84660",
            "value": " 232k/232k [00:00&lt;00:00, 12.3MB/s]"
          }
        },
        "9ca24e194c0c4744953f31891ab159e6": {
          "model_module": "@jupyter-widgets/base",
          "model_name": "LayoutModel",
          "model_module_version": "1.2.0",
          "state": {
            "_model_module": "@jupyter-widgets/base",
            "_model_module_version": "1.2.0",
            "_model_name": "LayoutModel",
            "_view_count": null,
            "_view_module": "@jupyter-widgets/base",
            "_view_module_version": "1.2.0",
            "_view_name": "LayoutView",
            "align_content": null,
            "align_items": null,
            "align_self": null,
            "border": null,
            "bottom": null,
            "display": null,
            "flex": null,
            "flex_flow": null,
            "grid_area": null,
            "grid_auto_columns": null,
            "grid_auto_flow": null,
            "grid_auto_rows": null,
            "grid_column": null,
            "grid_gap": null,
            "grid_row": null,
            "grid_template_areas": null,
            "grid_template_columns": null,
            "grid_template_rows": null,
            "height": null,
            "justify_content": null,
            "justify_items": null,
            "left": null,
            "margin": null,
            "max_height": null,
            "max_width": null,
            "min_height": null,
            "min_width": null,
            "object_fit": null,
            "object_position": null,
            "order": null,
            "overflow": null,
            "overflow_x": null,
            "overflow_y": null,
            "padding": null,
            "right": null,
            "top": null,
            "visibility": null,
            "width": null
          }
        },
        "1d4a43f741ec4895894a308496288229": {
          "model_module": "@jupyter-widgets/base",
          "model_name": "LayoutModel",
          "model_module_version": "1.2.0",
          "state": {
            "_model_module": "@jupyter-widgets/base",
            "_model_module_version": "1.2.0",
            "_model_name": "LayoutModel",
            "_view_count": null,
            "_view_module": "@jupyter-widgets/base",
            "_view_module_version": "1.2.0",
            "_view_name": "LayoutView",
            "align_content": null,
            "align_items": null,
            "align_self": null,
            "border": null,
            "bottom": null,
            "display": null,
            "flex": null,
            "flex_flow": null,
            "grid_area": null,
            "grid_auto_columns": null,
            "grid_auto_flow": null,
            "grid_auto_rows": null,
            "grid_column": null,
            "grid_gap": null,
            "grid_row": null,
            "grid_template_areas": null,
            "grid_template_columns": null,
            "grid_template_rows": null,
            "height": null,
            "justify_content": null,
            "justify_items": null,
            "left": null,
            "margin": null,
            "max_height": null,
            "max_width": null,
            "min_height": null,
            "min_width": null,
            "object_fit": null,
            "object_position": null,
            "order": null,
            "overflow": null,
            "overflow_x": null,
            "overflow_y": null,
            "padding": null,
            "right": null,
            "top": null,
            "visibility": null,
            "width": null
          }
        },
        "883d67a6f7aa4cf98bcabdd4a5e2a0ae": {
          "model_module": "@jupyter-widgets/controls",
          "model_name": "DescriptionStyleModel",
          "model_module_version": "1.5.0",
          "state": {
            "_model_module": "@jupyter-widgets/controls",
            "_model_module_version": "1.5.0",
            "_model_name": "DescriptionStyleModel",
            "_view_count": null,
            "_view_module": "@jupyter-widgets/base",
            "_view_module_version": "1.2.0",
            "_view_name": "StyleView",
            "description_width": ""
          }
        },
        "f9974bdc38714a10a5d78042311d57c4": {
          "model_module": "@jupyter-widgets/base",
          "model_name": "LayoutModel",
          "model_module_version": "1.2.0",
          "state": {
            "_model_module": "@jupyter-widgets/base",
            "_model_module_version": "1.2.0",
            "_model_name": "LayoutModel",
            "_view_count": null,
            "_view_module": "@jupyter-widgets/base",
            "_view_module_version": "1.2.0",
            "_view_name": "LayoutView",
            "align_content": null,
            "align_items": null,
            "align_self": null,
            "border": null,
            "bottom": null,
            "display": null,
            "flex": null,
            "flex_flow": null,
            "grid_area": null,
            "grid_auto_columns": null,
            "grid_auto_flow": null,
            "grid_auto_rows": null,
            "grid_column": null,
            "grid_gap": null,
            "grid_row": null,
            "grid_template_areas": null,
            "grid_template_columns": null,
            "grid_template_rows": null,
            "height": null,
            "justify_content": null,
            "justify_items": null,
            "left": null,
            "margin": null,
            "max_height": null,
            "max_width": null,
            "min_height": null,
            "min_width": null,
            "object_fit": null,
            "object_position": null,
            "order": null,
            "overflow": null,
            "overflow_x": null,
            "overflow_y": null,
            "padding": null,
            "right": null,
            "top": null,
            "visibility": null,
            "width": null
          }
        },
        "980604c64e7742bc96d734ee0672dc53": {
          "model_module": "@jupyter-widgets/controls",
          "model_name": "ProgressStyleModel",
          "model_module_version": "1.5.0",
          "state": {
            "_model_module": "@jupyter-widgets/controls",
            "_model_module_version": "1.5.0",
            "_model_name": "ProgressStyleModel",
            "_view_count": null,
            "_view_module": "@jupyter-widgets/base",
            "_view_module_version": "1.2.0",
            "_view_name": "StyleView",
            "bar_color": null,
            "description_width": ""
          }
        },
        "127d73b1abcf4e49ad9cebd95e05d198": {
          "model_module": "@jupyter-widgets/base",
          "model_name": "LayoutModel",
          "model_module_version": "1.2.0",
          "state": {
            "_model_module": "@jupyter-widgets/base",
            "_model_module_version": "1.2.0",
            "_model_name": "LayoutModel",
            "_view_count": null,
            "_view_module": "@jupyter-widgets/base",
            "_view_module_version": "1.2.0",
            "_view_name": "LayoutView",
            "align_content": null,
            "align_items": null,
            "align_self": null,
            "border": null,
            "bottom": null,
            "display": null,
            "flex": null,
            "flex_flow": null,
            "grid_area": null,
            "grid_auto_columns": null,
            "grid_auto_flow": null,
            "grid_auto_rows": null,
            "grid_column": null,
            "grid_gap": null,
            "grid_row": null,
            "grid_template_areas": null,
            "grid_template_columns": null,
            "grid_template_rows": null,
            "height": null,
            "justify_content": null,
            "justify_items": null,
            "left": null,
            "margin": null,
            "max_height": null,
            "max_width": null,
            "min_height": null,
            "min_width": null,
            "object_fit": null,
            "object_position": null,
            "order": null,
            "overflow": null,
            "overflow_x": null,
            "overflow_y": null,
            "padding": null,
            "right": null,
            "top": null,
            "visibility": null,
            "width": null
          }
        },
        "ef45af0413884a9a8c97452436d84660": {
          "model_module": "@jupyter-widgets/controls",
          "model_name": "DescriptionStyleModel",
          "model_module_version": "1.5.0",
          "state": {
            "_model_module": "@jupyter-widgets/controls",
            "_model_module_version": "1.5.0",
            "_model_name": "DescriptionStyleModel",
            "_view_count": null,
            "_view_module": "@jupyter-widgets/base",
            "_view_module_version": "1.2.0",
            "_view_name": "StyleView",
            "description_width": ""
          }
        },
        "3a8a2acd70364019b627bcfa151ec4b3": {
          "model_module": "@jupyter-widgets/controls",
          "model_name": "HBoxModel",
          "model_module_version": "1.5.0",
          "state": {
            "_dom_classes": [],
            "_model_module": "@jupyter-widgets/controls",
            "_model_module_version": "1.5.0",
            "_model_name": "HBoxModel",
            "_view_count": null,
            "_view_module": "@jupyter-widgets/controls",
            "_view_module_version": "1.5.0",
            "_view_name": "HBoxView",
            "box_style": "",
            "children": [
              "IPY_MODEL_51ff1882e311457ab85876931cf993f9",
              "IPY_MODEL_995ad2767fd24c1e9d2cbbb20c4fec19",
              "IPY_MODEL_d9cd7328ec4542a6bde11b8d01568ed1"
            ],
            "layout": "IPY_MODEL_500ec0bfc7844470a1d936306763850e"
          }
        },
        "51ff1882e311457ab85876931cf993f9": {
          "model_module": "@jupyter-widgets/controls",
          "model_name": "HTMLModel",
          "model_module_version": "1.5.0",
          "state": {
            "_dom_classes": [],
            "_model_module": "@jupyter-widgets/controls",
            "_model_module_version": "1.5.0",
            "_model_name": "HTMLModel",
            "_view_count": null,
            "_view_module": "@jupyter-widgets/controls",
            "_view_module_version": "1.5.0",
            "_view_name": "HTMLView",
            "description": "",
            "description_tooltip": null,
            "layout": "IPY_MODEL_ea83f04a09224506820b8aa52ee282e6",
            "placeholder": "​",
            "style": "IPY_MODEL_798fd2c376a04013837e24f024f17189",
            "value": "Downloading (…)okenizer_config.json: 100%"
          }
        },
        "995ad2767fd24c1e9d2cbbb20c4fec19": {
          "model_module": "@jupyter-widgets/controls",
          "model_name": "FloatProgressModel",
          "model_module_version": "1.5.0",
          "state": {
            "_dom_classes": [],
            "_model_module": "@jupyter-widgets/controls",
            "_model_module_version": "1.5.0",
            "_model_name": "FloatProgressModel",
            "_view_count": null,
            "_view_module": "@jupyter-widgets/controls",
            "_view_module_version": "1.5.0",
            "_view_name": "ProgressView",
            "bar_style": "success",
            "description": "",
            "description_tooltip": null,
            "layout": "IPY_MODEL_901d678fddbf461583c3036f68f99d60",
            "max": 28,
            "min": 0,
            "orientation": "horizontal",
            "style": "IPY_MODEL_e8ee8b5dd46c445fa04c63c74eab9da8",
            "value": 28
          }
        },
        "d9cd7328ec4542a6bde11b8d01568ed1": {
          "model_module": "@jupyter-widgets/controls",
          "model_name": "HTMLModel",
          "model_module_version": "1.5.0",
          "state": {
            "_dom_classes": [],
            "_model_module": "@jupyter-widgets/controls",
            "_model_module_version": "1.5.0",
            "_model_name": "HTMLModel",
            "_view_count": null,
            "_view_module": "@jupyter-widgets/controls",
            "_view_module_version": "1.5.0",
            "_view_name": "HTMLView",
            "description": "",
            "description_tooltip": null,
            "layout": "IPY_MODEL_70229bb35d3b4c559b2f2bd2db9a665c",
            "placeholder": "​",
            "style": "IPY_MODEL_0244332dc11648ad9c398ebf3bb1f715",
            "value": " 28.0/28.0 [00:00&lt;00:00, 1.87kB/s]"
          }
        },
        "500ec0bfc7844470a1d936306763850e": {
          "model_module": "@jupyter-widgets/base",
          "model_name": "LayoutModel",
          "model_module_version": "1.2.0",
          "state": {
            "_model_module": "@jupyter-widgets/base",
            "_model_module_version": "1.2.0",
            "_model_name": "LayoutModel",
            "_view_count": null,
            "_view_module": "@jupyter-widgets/base",
            "_view_module_version": "1.2.0",
            "_view_name": "LayoutView",
            "align_content": null,
            "align_items": null,
            "align_self": null,
            "border": null,
            "bottom": null,
            "display": null,
            "flex": null,
            "flex_flow": null,
            "grid_area": null,
            "grid_auto_columns": null,
            "grid_auto_flow": null,
            "grid_auto_rows": null,
            "grid_column": null,
            "grid_gap": null,
            "grid_row": null,
            "grid_template_areas": null,
            "grid_template_columns": null,
            "grid_template_rows": null,
            "height": null,
            "justify_content": null,
            "justify_items": null,
            "left": null,
            "margin": null,
            "max_height": null,
            "max_width": null,
            "min_height": null,
            "min_width": null,
            "object_fit": null,
            "object_position": null,
            "order": null,
            "overflow": null,
            "overflow_x": null,
            "overflow_y": null,
            "padding": null,
            "right": null,
            "top": null,
            "visibility": null,
            "width": null
          }
        },
        "ea83f04a09224506820b8aa52ee282e6": {
          "model_module": "@jupyter-widgets/base",
          "model_name": "LayoutModel",
          "model_module_version": "1.2.0",
          "state": {
            "_model_module": "@jupyter-widgets/base",
            "_model_module_version": "1.2.0",
            "_model_name": "LayoutModel",
            "_view_count": null,
            "_view_module": "@jupyter-widgets/base",
            "_view_module_version": "1.2.0",
            "_view_name": "LayoutView",
            "align_content": null,
            "align_items": null,
            "align_self": null,
            "border": null,
            "bottom": null,
            "display": null,
            "flex": null,
            "flex_flow": null,
            "grid_area": null,
            "grid_auto_columns": null,
            "grid_auto_flow": null,
            "grid_auto_rows": null,
            "grid_column": null,
            "grid_gap": null,
            "grid_row": null,
            "grid_template_areas": null,
            "grid_template_columns": null,
            "grid_template_rows": null,
            "height": null,
            "justify_content": null,
            "justify_items": null,
            "left": null,
            "margin": null,
            "max_height": null,
            "max_width": null,
            "min_height": null,
            "min_width": null,
            "object_fit": null,
            "object_position": null,
            "order": null,
            "overflow": null,
            "overflow_x": null,
            "overflow_y": null,
            "padding": null,
            "right": null,
            "top": null,
            "visibility": null,
            "width": null
          }
        },
        "798fd2c376a04013837e24f024f17189": {
          "model_module": "@jupyter-widgets/controls",
          "model_name": "DescriptionStyleModel",
          "model_module_version": "1.5.0",
          "state": {
            "_model_module": "@jupyter-widgets/controls",
            "_model_module_version": "1.5.0",
            "_model_name": "DescriptionStyleModel",
            "_view_count": null,
            "_view_module": "@jupyter-widgets/base",
            "_view_module_version": "1.2.0",
            "_view_name": "StyleView",
            "description_width": ""
          }
        },
        "901d678fddbf461583c3036f68f99d60": {
          "model_module": "@jupyter-widgets/base",
          "model_name": "LayoutModel",
          "model_module_version": "1.2.0",
          "state": {
            "_model_module": "@jupyter-widgets/base",
            "_model_module_version": "1.2.0",
            "_model_name": "LayoutModel",
            "_view_count": null,
            "_view_module": "@jupyter-widgets/base",
            "_view_module_version": "1.2.0",
            "_view_name": "LayoutView",
            "align_content": null,
            "align_items": null,
            "align_self": null,
            "border": null,
            "bottom": null,
            "display": null,
            "flex": null,
            "flex_flow": null,
            "grid_area": null,
            "grid_auto_columns": null,
            "grid_auto_flow": null,
            "grid_auto_rows": null,
            "grid_column": null,
            "grid_gap": null,
            "grid_row": null,
            "grid_template_areas": null,
            "grid_template_columns": null,
            "grid_template_rows": null,
            "height": null,
            "justify_content": null,
            "justify_items": null,
            "left": null,
            "margin": null,
            "max_height": null,
            "max_width": null,
            "min_height": null,
            "min_width": null,
            "object_fit": null,
            "object_position": null,
            "order": null,
            "overflow": null,
            "overflow_x": null,
            "overflow_y": null,
            "padding": null,
            "right": null,
            "top": null,
            "visibility": null,
            "width": null
          }
        },
        "e8ee8b5dd46c445fa04c63c74eab9da8": {
          "model_module": "@jupyter-widgets/controls",
          "model_name": "ProgressStyleModel",
          "model_module_version": "1.5.0",
          "state": {
            "_model_module": "@jupyter-widgets/controls",
            "_model_module_version": "1.5.0",
            "_model_name": "ProgressStyleModel",
            "_view_count": null,
            "_view_module": "@jupyter-widgets/base",
            "_view_module_version": "1.2.0",
            "_view_name": "StyleView",
            "bar_color": null,
            "description_width": ""
          }
        },
        "70229bb35d3b4c559b2f2bd2db9a665c": {
          "model_module": "@jupyter-widgets/base",
          "model_name": "LayoutModel",
          "model_module_version": "1.2.0",
          "state": {
            "_model_module": "@jupyter-widgets/base",
            "_model_module_version": "1.2.0",
            "_model_name": "LayoutModel",
            "_view_count": null,
            "_view_module": "@jupyter-widgets/base",
            "_view_module_version": "1.2.0",
            "_view_name": "LayoutView",
            "align_content": null,
            "align_items": null,
            "align_self": null,
            "border": null,
            "bottom": null,
            "display": null,
            "flex": null,
            "flex_flow": null,
            "grid_area": null,
            "grid_auto_columns": null,
            "grid_auto_flow": null,
            "grid_auto_rows": null,
            "grid_column": null,
            "grid_gap": null,
            "grid_row": null,
            "grid_template_areas": null,
            "grid_template_columns": null,
            "grid_template_rows": null,
            "height": null,
            "justify_content": null,
            "justify_items": null,
            "left": null,
            "margin": null,
            "max_height": null,
            "max_width": null,
            "min_height": null,
            "min_width": null,
            "object_fit": null,
            "object_position": null,
            "order": null,
            "overflow": null,
            "overflow_x": null,
            "overflow_y": null,
            "padding": null,
            "right": null,
            "top": null,
            "visibility": null,
            "width": null
          }
        },
        "0244332dc11648ad9c398ebf3bb1f715": {
          "model_module": "@jupyter-widgets/controls",
          "model_name": "DescriptionStyleModel",
          "model_module_version": "1.5.0",
          "state": {
            "_model_module": "@jupyter-widgets/controls",
            "_model_module_version": "1.5.0",
            "_model_name": "DescriptionStyleModel",
            "_view_count": null,
            "_view_module": "@jupyter-widgets/base",
            "_view_module_version": "1.2.0",
            "_view_name": "StyleView",
            "description_width": ""
          }
        },
        "a21fd6301ad94d4aa71b4a61e631594a": {
          "model_module": "@jupyter-widgets/controls",
          "model_name": "HBoxModel",
          "model_module_version": "1.5.0",
          "state": {
            "_dom_classes": [],
            "_model_module": "@jupyter-widgets/controls",
            "_model_module_version": "1.5.0",
            "_model_name": "HBoxModel",
            "_view_count": null,
            "_view_module": "@jupyter-widgets/controls",
            "_view_module_version": "1.5.0",
            "_view_name": "HBoxView",
            "box_style": "",
            "children": [
              "IPY_MODEL_d85a2772e7004e288056f687209f80b8",
              "IPY_MODEL_4c3be407424d48108ad2012a17ee2edd",
              "IPY_MODEL_f516e6ba6d3845c091fe2603af1d8f5e"
            ],
            "layout": "IPY_MODEL_19c42326a70240cab2bfed86190a4288"
          }
        },
        "d85a2772e7004e288056f687209f80b8": {
          "model_module": "@jupyter-widgets/controls",
          "model_name": "HTMLModel",
          "model_module_version": "1.5.0",
          "state": {
            "_dom_classes": [],
            "_model_module": "@jupyter-widgets/controls",
            "_model_module_version": "1.5.0",
            "_model_name": "HTMLModel",
            "_view_count": null,
            "_view_module": "@jupyter-widgets/controls",
            "_view_module_version": "1.5.0",
            "_view_name": "HTMLView",
            "description": "",
            "description_tooltip": null,
            "layout": "IPY_MODEL_c11c12bc146e46759208f98e768a252a",
            "placeholder": "​",
            "style": "IPY_MODEL_8da500508786483ab184eccc22183560",
            "value": "Downloading (…)lve/main/config.json: 100%"
          }
        },
        "4c3be407424d48108ad2012a17ee2edd": {
          "model_module": "@jupyter-widgets/controls",
          "model_name": "FloatProgressModel",
          "model_module_version": "1.5.0",
          "state": {
            "_dom_classes": [],
            "_model_module": "@jupyter-widgets/controls",
            "_model_module_version": "1.5.0",
            "_model_name": "FloatProgressModel",
            "_view_count": null,
            "_view_module": "@jupyter-widgets/controls",
            "_view_module_version": "1.5.0",
            "_view_name": "ProgressView",
            "bar_style": "success",
            "description": "",
            "description_tooltip": null,
            "layout": "IPY_MODEL_52a7b467d7ee45cb8a325f69dcbe1eba",
            "max": 570,
            "min": 0,
            "orientation": "horizontal",
            "style": "IPY_MODEL_75297cddd7be4c2593192f82554c658e",
            "value": 570
          }
        },
        "f516e6ba6d3845c091fe2603af1d8f5e": {
          "model_module": "@jupyter-widgets/controls",
          "model_name": "HTMLModel",
          "model_module_version": "1.5.0",
          "state": {
            "_dom_classes": [],
            "_model_module": "@jupyter-widgets/controls",
            "_model_module_version": "1.5.0",
            "_model_name": "HTMLModel",
            "_view_count": null,
            "_view_module": "@jupyter-widgets/controls",
            "_view_module_version": "1.5.0",
            "_view_name": "HTMLView",
            "description": "",
            "description_tooltip": null,
            "layout": "IPY_MODEL_49c4954c2d0841ae800ce0b21322a557",
            "placeholder": "​",
            "style": "IPY_MODEL_b4b4be0453b64aefb10cecccdb9084d3",
            "value": " 570/570 [00:00&lt;00:00, 23.2kB/s]"
          }
        },
        "19c42326a70240cab2bfed86190a4288": {
          "model_module": "@jupyter-widgets/base",
          "model_name": "LayoutModel",
          "model_module_version": "1.2.0",
          "state": {
            "_model_module": "@jupyter-widgets/base",
            "_model_module_version": "1.2.0",
            "_model_name": "LayoutModel",
            "_view_count": null,
            "_view_module": "@jupyter-widgets/base",
            "_view_module_version": "1.2.0",
            "_view_name": "LayoutView",
            "align_content": null,
            "align_items": null,
            "align_self": null,
            "border": null,
            "bottom": null,
            "display": null,
            "flex": null,
            "flex_flow": null,
            "grid_area": null,
            "grid_auto_columns": null,
            "grid_auto_flow": null,
            "grid_auto_rows": null,
            "grid_column": null,
            "grid_gap": null,
            "grid_row": null,
            "grid_template_areas": null,
            "grid_template_columns": null,
            "grid_template_rows": null,
            "height": null,
            "justify_content": null,
            "justify_items": null,
            "left": null,
            "margin": null,
            "max_height": null,
            "max_width": null,
            "min_height": null,
            "min_width": null,
            "object_fit": null,
            "object_position": null,
            "order": null,
            "overflow": null,
            "overflow_x": null,
            "overflow_y": null,
            "padding": null,
            "right": null,
            "top": null,
            "visibility": null,
            "width": null
          }
        },
        "c11c12bc146e46759208f98e768a252a": {
          "model_module": "@jupyter-widgets/base",
          "model_name": "LayoutModel",
          "model_module_version": "1.2.0",
          "state": {
            "_model_module": "@jupyter-widgets/base",
            "_model_module_version": "1.2.0",
            "_model_name": "LayoutModel",
            "_view_count": null,
            "_view_module": "@jupyter-widgets/base",
            "_view_module_version": "1.2.0",
            "_view_name": "LayoutView",
            "align_content": null,
            "align_items": null,
            "align_self": null,
            "border": null,
            "bottom": null,
            "display": null,
            "flex": null,
            "flex_flow": null,
            "grid_area": null,
            "grid_auto_columns": null,
            "grid_auto_flow": null,
            "grid_auto_rows": null,
            "grid_column": null,
            "grid_gap": null,
            "grid_row": null,
            "grid_template_areas": null,
            "grid_template_columns": null,
            "grid_template_rows": null,
            "height": null,
            "justify_content": null,
            "justify_items": null,
            "left": null,
            "margin": null,
            "max_height": null,
            "max_width": null,
            "min_height": null,
            "min_width": null,
            "object_fit": null,
            "object_position": null,
            "order": null,
            "overflow": null,
            "overflow_x": null,
            "overflow_y": null,
            "padding": null,
            "right": null,
            "top": null,
            "visibility": null,
            "width": null
          }
        },
        "8da500508786483ab184eccc22183560": {
          "model_module": "@jupyter-widgets/controls",
          "model_name": "DescriptionStyleModel",
          "model_module_version": "1.5.0",
          "state": {
            "_model_module": "@jupyter-widgets/controls",
            "_model_module_version": "1.5.0",
            "_model_name": "DescriptionStyleModel",
            "_view_count": null,
            "_view_module": "@jupyter-widgets/base",
            "_view_module_version": "1.2.0",
            "_view_name": "StyleView",
            "description_width": ""
          }
        },
        "52a7b467d7ee45cb8a325f69dcbe1eba": {
          "model_module": "@jupyter-widgets/base",
          "model_name": "LayoutModel",
          "model_module_version": "1.2.0",
          "state": {
            "_model_module": "@jupyter-widgets/base",
            "_model_module_version": "1.2.0",
            "_model_name": "LayoutModel",
            "_view_count": null,
            "_view_module": "@jupyter-widgets/base",
            "_view_module_version": "1.2.0",
            "_view_name": "LayoutView",
            "align_content": null,
            "align_items": null,
            "align_self": null,
            "border": null,
            "bottom": null,
            "display": null,
            "flex": null,
            "flex_flow": null,
            "grid_area": null,
            "grid_auto_columns": null,
            "grid_auto_flow": null,
            "grid_auto_rows": null,
            "grid_column": null,
            "grid_gap": null,
            "grid_row": null,
            "grid_template_areas": null,
            "grid_template_columns": null,
            "grid_template_rows": null,
            "height": null,
            "justify_content": null,
            "justify_items": null,
            "left": null,
            "margin": null,
            "max_height": null,
            "max_width": null,
            "min_height": null,
            "min_width": null,
            "object_fit": null,
            "object_position": null,
            "order": null,
            "overflow": null,
            "overflow_x": null,
            "overflow_y": null,
            "padding": null,
            "right": null,
            "top": null,
            "visibility": null,
            "width": null
          }
        },
        "75297cddd7be4c2593192f82554c658e": {
          "model_module": "@jupyter-widgets/controls",
          "model_name": "ProgressStyleModel",
          "model_module_version": "1.5.0",
          "state": {
            "_model_module": "@jupyter-widgets/controls",
            "_model_module_version": "1.5.0",
            "_model_name": "ProgressStyleModel",
            "_view_count": null,
            "_view_module": "@jupyter-widgets/base",
            "_view_module_version": "1.2.0",
            "_view_name": "StyleView",
            "bar_color": null,
            "description_width": ""
          }
        },
        "49c4954c2d0841ae800ce0b21322a557": {
          "model_module": "@jupyter-widgets/base",
          "model_name": "LayoutModel",
          "model_module_version": "1.2.0",
          "state": {
            "_model_module": "@jupyter-widgets/base",
            "_model_module_version": "1.2.0",
            "_model_name": "LayoutModel",
            "_view_count": null,
            "_view_module": "@jupyter-widgets/base",
            "_view_module_version": "1.2.0",
            "_view_name": "LayoutView",
            "align_content": null,
            "align_items": null,
            "align_self": null,
            "border": null,
            "bottom": null,
            "display": null,
            "flex": null,
            "flex_flow": null,
            "grid_area": null,
            "grid_auto_columns": null,
            "grid_auto_flow": null,
            "grid_auto_rows": null,
            "grid_column": null,
            "grid_gap": null,
            "grid_row": null,
            "grid_template_areas": null,
            "grid_template_columns": null,
            "grid_template_rows": null,
            "height": null,
            "justify_content": null,
            "justify_items": null,
            "left": null,
            "margin": null,
            "max_height": null,
            "max_width": null,
            "min_height": null,
            "min_width": null,
            "object_fit": null,
            "object_position": null,
            "order": null,
            "overflow": null,
            "overflow_x": null,
            "overflow_y": null,
            "padding": null,
            "right": null,
            "top": null,
            "visibility": null,
            "width": null
          }
        },
        "b4b4be0453b64aefb10cecccdb9084d3": {
          "model_module": "@jupyter-widgets/controls",
          "model_name": "DescriptionStyleModel",
          "model_module_version": "1.5.0",
          "state": {
            "_model_module": "@jupyter-widgets/controls",
            "_model_module_version": "1.5.0",
            "_model_name": "DescriptionStyleModel",
            "_view_count": null,
            "_view_module": "@jupyter-widgets/base",
            "_view_module_version": "1.2.0",
            "_view_name": "StyleView",
            "description_width": ""
          }
        },
        "2f91665899ce4c63a270e95adc0d1392": {
          "model_module": "@jupyter-widgets/controls",
          "model_name": "HBoxModel",
          "model_module_version": "1.5.0",
          "state": {
            "_dom_classes": [],
            "_model_module": "@jupyter-widgets/controls",
            "_model_module_version": "1.5.0",
            "_model_name": "HBoxModel",
            "_view_count": null,
            "_view_module": "@jupyter-widgets/controls",
            "_view_module_version": "1.5.0",
            "_view_name": "HBoxView",
            "box_style": "",
            "children": [
              "IPY_MODEL_a5971fcbf1aa4779b33de4af081e067d",
              "IPY_MODEL_a34a58841f084fbe953709ab71821eed",
              "IPY_MODEL_15f0773027bc462c847642f2f5876998"
            ],
            "layout": "IPY_MODEL_9fa04ae793564888be9a73c2625a0cf5"
          }
        },
        "a5971fcbf1aa4779b33de4af081e067d": {
          "model_module": "@jupyter-widgets/controls",
          "model_name": "HTMLModel",
          "model_module_version": "1.5.0",
          "state": {
            "_dom_classes": [],
            "_model_module": "@jupyter-widgets/controls",
            "_model_module_version": "1.5.0",
            "_model_name": "HTMLModel",
            "_view_count": null,
            "_view_module": "@jupyter-widgets/controls",
            "_view_module_version": "1.5.0",
            "_view_name": "HTMLView",
            "description": "",
            "description_tooltip": null,
            "layout": "IPY_MODEL_b66d979b810f4925b5aba24e1260c8e8",
            "placeholder": "​",
            "style": "IPY_MODEL_117244eb8a4e42db8688769337e61cc5",
            "value": "Downloading pytorch_model.bin: 100%"
          }
        },
        "a34a58841f084fbe953709ab71821eed": {
          "model_module": "@jupyter-widgets/controls",
          "model_name": "FloatProgressModel",
          "model_module_version": "1.5.0",
          "state": {
            "_dom_classes": [],
            "_model_module": "@jupyter-widgets/controls",
            "_model_module_version": "1.5.0",
            "_model_name": "FloatProgressModel",
            "_view_count": null,
            "_view_module": "@jupyter-widgets/controls",
            "_view_module_version": "1.5.0",
            "_view_name": "ProgressView",
            "bar_style": "success",
            "description": "",
            "description_tooltip": null,
            "layout": "IPY_MODEL_5a1262fd07ae4006a8c0d7c0c44d1af5",
            "max": 440473133,
            "min": 0,
            "orientation": "horizontal",
            "style": "IPY_MODEL_0ffba2c5ac2c491b9fa91cbd63ec383e",
            "value": 440473133
          }
        },
        "15f0773027bc462c847642f2f5876998": {
          "model_module": "@jupyter-widgets/controls",
          "model_name": "HTMLModel",
          "model_module_version": "1.5.0",
          "state": {
            "_dom_classes": [],
            "_model_module": "@jupyter-widgets/controls",
            "_model_module_version": "1.5.0",
            "_model_name": "HTMLModel",
            "_view_count": null,
            "_view_module": "@jupyter-widgets/controls",
            "_view_module_version": "1.5.0",
            "_view_name": "HTMLView",
            "description": "",
            "description_tooltip": null,
            "layout": "IPY_MODEL_5ee8c4d5533a496a8705d786dde850a5",
            "placeholder": "​",
            "style": "IPY_MODEL_0e4df69bfa334b66be06dbaa0efd33ea",
            "value": " 440M/440M [00:04&lt;00:00, 94.6MB/s]"
          }
        },
        "9fa04ae793564888be9a73c2625a0cf5": {
          "model_module": "@jupyter-widgets/base",
          "model_name": "LayoutModel",
          "model_module_version": "1.2.0",
          "state": {
            "_model_module": "@jupyter-widgets/base",
            "_model_module_version": "1.2.0",
            "_model_name": "LayoutModel",
            "_view_count": null,
            "_view_module": "@jupyter-widgets/base",
            "_view_module_version": "1.2.0",
            "_view_name": "LayoutView",
            "align_content": null,
            "align_items": null,
            "align_self": null,
            "border": null,
            "bottom": null,
            "display": null,
            "flex": null,
            "flex_flow": null,
            "grid_area": null,
            "grid_auto_columns": null,
            "grid_auto_flow": null,
            "grid_auto_rows": null,
            "grid_column": null,
            "grid_gap": null,
            "grid_row": null,
            "grid_template_areas": null,
            "grid_template_columns": null,
            "grid_template_rows": null,
            "height": null,
            "justify_content": null,
            "justify_items": null,
            "left": null,
            "margin": null,
            "max_height": null,
            "max_width": null,
            "min_height": null,
            "min_width": null,
            "object_fit": null,
            "object_position": null,
            "order": null,
            "overflow": null,
            "overflow_x": null,
            "overflow_y": null,
            "padding": null,
            "right": null,
            "top": null,
            "visibility": null,
            "width": null
          }
        },
        "b66d979b810f4925b5aba24e1260c8e8": {
          "model_module": "@jupyter-widgets/base",
          "model_name": "LayoutModel",
          "model_module_version": "1.2.0",
          "state": {
            "_model_module": "@jupyter-widgets/base",
            "_model_module_version": "1.2.0",
            "_model_name": "LayoutModel",
            "_view_count": null,
            "_view_module": "@jupyter-widgets/base",
            "_view_module_version": "1.2.0",
            "_view_name": "LayoutView",
            "align_content": null,
            "align_items": null,
            "align_self": null,
            "border": null,
            "bottom": null,
            "display": null,
            "flex": null,
            "flex_flow": null,
            "grid_area": null,
            "grid_auto_columns": null,
            "grid_auto_flow": null,
            "grid_auto_rows": null,
            "grid_column": null,
            "grid_gap": null,
            "grid_row": null,
            "grid_template_areas": null,
            "grid_template_columns": null,
            "grid_template_rows": null,
            "height": null,
            "justify_content": null,
            "justify_items": null,
            "left": null,
            "margin": null,
            "max_height": null,
            "max_width": null,
            "min_height": null,
            "min_width": null,
            "object_fit": null,
            "object_position": null,
            "order": null,
            "overflow": null,
            "overflow_x": null,
            "overflow_y": null,
            "padding": null,
            "right": null,
            "top": null,
            "visibility": null,
            "width": null
          }
        },
        "117244eb8a4e42db8688769337e61cc5": {
          "model_module": "@jupyter-widgets/controls",
          "model_name": "DescriptionStyleModel",
          "model_module_version": "1.5.0",
          "state": {
            "_model_module": "@jupyter-widgets/controls",
            "_model_module_version": "1.5.0",
            "_model_name": "DescriptionStyleModel",
            "_view_count": null,
            "_view_module": "@jupyter-widgets/base",
            "_view_module_version": "1.2.0",
            "_view_name": "StyleView",
            "description_width": ""
          }
        },
        "5a1262fd07ae4006a8c0d7c0c44d1af5": {
          "model_module": "@jupyter-widgets/base",
          "model_name": "LayoutModel",
          "model_module_version": "1.2.0",
          "state": {
            "_model_module": "@jupyter-widgets/base",
            "_model_module_version": "1.2.0",
            "_model_name": "LayoutModel",
            "_view_count": null,
            "_view_module": "@jupyter-widgets/base",
            "_view_module_version": "1.2.0",
            "_view_name": "LayoutView",
            "align_content": null,
            "align_items": null,
            "align_self": null,
            "border": null,
            "bottom": null,
            "display": null,
            "flex": null,
            "flex_flow": null,
            "grid_area": null,
            "grid_auto_columns": null,
            "grid_auto_flow": null,
            "grid_auto_rows": null,
            "grid_column": null,
            "grid_gap": null,
            "grid_row": null,
            "grid_template_areas": null,
            "grid_template_columns": null,
            "grid_template_rows": null,
            "height": null,
            "justify_content": null,
            "justify_items": null,
            "left": null,
            "margin": null,
            "max_height": null,
            "max_width": null,
            "min_height": null,
            "min_width": null,
            "object_fit": null,
            "object_position": null,
            "order": null,
            "overflow": null,
            "overflow_x": null,
            "overflow_y": null,
            "padding": null,
            "right": null,
            "top": null,
            "visibility": null,
            "width": null
          }
        },
        "0ffba2c5ac2c491b9fa91cbd63ec383e": {
          "model_module": "@jupyter-widgets/controls",
          "model_name": "ProgressStyleModel",
          "model_module_version": "1.5.0",
          "state": {
            "_model_module": "@jupyter-widgets/controls",
            "_model_module_version": "1.5.0",
            "_model_name": "ProgressStyleModel",
            "_view_count": null,
            "_view_module": "@jupyter-widgets/base",
            "_view_module_version": "1.2.0",
            "_view_name": "StyleView",
            "bar_color": null,
            "description_width": ""
          }
        },
        "5ee8c4d5533a496a8705d786dde850a5": {
          "model_module": "@jupyter-widgets/base",
          "model_name": "LayoutModel",
          "model_module_version": "1.2.0",
          "state": {
            "_model_module": "@jupyter-widgets/base",
            "_model_module_version": "1.2.0",
            "_model_name": "LayoutModel",
            "_view_count": null,
            "_view_module": "@jupyter-widgets/base",
            "_view_module_version": "1.2.0",
            "_view_name": "LayoutView",
            "align_content": null,
            "align_items": null,
            "align_self": null,
            "border": null,
            "bottom": null,
            "display": null,
            "flex": null,
            "flex_flow": null,
            "grid_area": null,
            "grid_auto_columns": null,
            "grid_auto_flow": null,
            "grid_auto_rows": null,
            "grid_column": null,
            "grid_gap": null,
            "grid_row": null,
            "grid_template_areas": null,
            "grid_template_columns": null,
            "grid_template_rows": null,
            "height": null,
            "justify_content": null,
            "justify_items": null,
            "left": null,
            "margin": null,
            "max_height": null,
            "max_width": null,
            "min_height": null,
            "min_width": null,
            "object_fit": null,
            "object_position": null,
            "order": null,
            "overflow": null,
            "overflow_x": null,
            "overflow_y": null,
            "padding": null,
            "right": null,
            "top": null,
            "visibility": null,
            "width": null
          }
        },
        "0e4df69bfa334b66be06dbaa0efd33ea": {
          "model_module": "@jupyter-widgets/controls",
          "model_name": "DescriptionStyleModel",
          "model_module_version": "1.5.0",
          "state": {
            "_model_module": "@jupyter-widgets/controls",
            "_model_module_version": "1.5.0",
            "_model_name": "DescriptionStyleModel",
            "_view_count": null,
            "_view_module": "@jupyter-widgets/base",
            "_view_module_version": "1.2.0",
            "_view_name": "StyleView",
            "description_width": ""
          }
        }
      }
    }
  },
  "nbformat": 4,
  "nbformat_minor": 0
}