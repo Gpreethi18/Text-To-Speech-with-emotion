{
  "cells": [
    {
      "cell_type": "code",
      "execution_count": null,
      "metadata": {
        "colab": {
          "base_uri": "https://localhost:8080/"
        },
        "id": "zrqAesQPG4lC",
        "outputId": "28e231c0-8311-4459-ebde-135973f1c455"
      },
      "outputs": [
        {
          "output_type": "stream",
          "name": "stdout",
          "text": [
            "Looking in indexes: https://pypi.org/simple, https://us-python.pkg.dev/colab-wheels/public/simple/\n",
            "Requirement already satisfied: transformers in /usr/local/lib/python3.7/dist-packages (4.24.0)\n",
            "Requirement already satisfied: huggingface-hub<1.0,>=0.10.0 in /usr/local/lib/python3.7/dist-packages (from transformers) (0.11.0)\n",
            "Requirement already satisfied: pyyaml>=5.1 in /usr/local/lib/python3.7/dist-packages (from transformers) (6.0)\n",
            "Requirement already satisfied: tqdm>=4.27 in /usr/local/lib/python3.7/dist-packages (from transformers) (4.62.3)\n",
            "Requirement already satisfied: packaging>=20.0 in /usr/local/lib/python3.7/dist-packages (from transformers) (21.3)\n",
            "Requirement already satisfied: tokenizers!=0.11.3,<0.14,>=0.11.1 in /usr/local/lib/python3.7/dist-packages (from transformers) (0.13.2)\n",
            "Requirement already satisfied: importlib-metadata in /usr/local/lib/python3.7/dist-packages (from transformers) (4.13.0)\n",
            "Requirement already satisfied: requests in /usr/local/lib/python3.7/dist-packages (from transformers) (2.28.1)\n",
            "Requirement already satisfied: numpy>=1.17 in /usr/local/lib/python3.7/dist-packages (from transformers) (1.20.3)\n",
            "Requirement already satisfied: regex!=2019.12.17 in /usr/local/lib/python3.7/dist-packages (from transformers) (2022.6.2)\n",
            "Requirement already satisfied: filelock in /usr/local/lib/python3.7/dist-packages (from transformers) (3.8.0)\n",
            "Requirement already satisfied: typing-extensions>=3.7.4.3 in /usr/local/lib/python3.7/dist-packages (from huggingface-hub<1.0,>=0.10.0->transformers) (4.1.1)\n",
            "Requirement already satisfied: pyparsing!=3.0.5,>=2.0.2 in /usr/local/lib/python3.7/dist-packages (from packaging>=20.0->transformers) (3.0.9)\n",
            "Requirement already satisfied: zipp>=0.5 in /usr/local/lib/python3.7/dist-packages (from importlib-metadata->transformers) (3.10.0)\n",
            "Requirement already satisfied: certifi>=2017.4.17 in /usr/local/lib/python3.7/dist-packages (from requests->transformers) (2022.9.24)\n",
            "Requirement already satisfied: idna<4,>=2.5 in /usr/local/lib/python3.7/dist-packages (from requests->transformers) (2.10)\n",
            "Requirement already satisfied: charset-normalizer<3,>=2 in /usr/local/lib/python3.7/dist-packages (from requests->transformers) (2.1.1)\n",
            "Requirement already satisfied: urllib3<1.27,>=1.21.1 in /usr/local/lib/python3.7/dist-packages (from requests->transformers) (1.26.7)\n"
          ]
        }
      ],
      "source": [
        "!pip3 install transformers"
      ]
    },
    {
      "cell_type": "code",
      "execution_count": null,
      "metadata": {
        "id": "HjP328h7J71U"
      },
      "outputs": [],
      "source": [
        "import numpy as np\n",
        "import pandas as pd\n",
        "from sklearn.model_selection import train_test_split\n",
        "from sklearn.linear_model import LogisticRegression\n",
        "from sklearn.model_selection import GridSearchCV\n",
        "from sklearn.model_selection import cross_val_score\n",
        "import torch\n",
        "import transformers as ppb\n",
        "import warnings\n",
        "warnings.filterwarnings('ignore')"
      ]
    },
    {
      "cell_type": "code",
      "execution_count": null,
      "metadata": {
        "id": "zLWn44XOKC0F"
      },
      "outputs": [],
      "source": [
        "df = pd.read_csv('dataset_2.csv')"
      ]
    },
    {
      "cell_type": "markdown",
      "metadata": {
        "id": "E3sQVLMqn-ln"
      },
      "source": [
        "Happy, Sad, Angry, Fear, Normal, Suprised"
      ]
    },
    {
      "cell_type": "code",
      "execution_count": null,
      "metadata": {
        "colab": {
          "base_uri": "https://localhost:8080/",
          "height": 206
        },
        "id": "14px3IqnKN8s",
        "outputId": "5b1bb2da-bb0a-4214-fe9f-f4d9aeade23b"
      },
      "outputs": [
        {
          "output_type": "execute_result",
          "data": {
            "text/plain": [
              "                                            Sentence  Emotion\n",
              "0  \"It is very unpleasant, I am afraid of the pol...      3.0\n",
              "1  Pickles nearly had a fit, he barked and he bar...      2.0\n",
              "2                 He shut the door in Nutkin's face.      2.0\n",
              "3  Old Mr. Brown turned up his eyes in disgust at...      2.0\n",
              "4  And to this day, if you meet Nutkin up a tree ...      2.0"
            ],
            "text/html": [
              "\n",
              "  <div id=\"df-78d395e8-5328-413e-b8f4-e98f64c762e2\">\n",
              "    <div class=\"colab-df-container\">\n",
              "      <div>\n",
              "<style scoped>\n",
              "    .dataframe tbody tr th:only-of-type {\n",
              "        vertical-align: middle;\n",
              "    }\n",
              "\n",
              "    .dataframe tbody tr th {\n",
              "        vertical-align: top;\n",
              "    }\n",
              "\n",
              "    .dataframe thead th {\n",
              "        text-align: right;\n",
              "    }\n",
              "</style>\n",
              "<table border=\"1\" class=\"dataframe\">\n",
              "  <thead>\n",
              "    <tr style=\"text-align: right;\">\n",
              "      <th></th>\n",
              "      <th>Sentence</th>\n",
              "      <th>Emotion</th>\n",
              "    </tr>\n",
              "  </thead>\n",
              "  <tbody>\n",
              "    <tr>\n",
              "      <th>0</th>\n",
              "      <td>\"It is very unpleasant, I am afraid of the pol...</td>\n",
              "      <td>3.0</td>\n",
              "    </tr>\n",
              "    <tr>\n",
              "      <th>1</th>\n",
              "      <td>Pickles nearly had a fit, he barked and he bar...</td>\n",
              "      <td>2.0</td>\n",
              "    </tr>\n",
              "    <tr>\n",
              "      <th>2</th>\n",
              "      <td>He shut the door in Nutkin's face.</td>\n",
              "      <td>2.0</td>\n",
              "    </tr>\n",
              "    <tr>\n",
              "      <th>3</th>\n",
              "      <td>Old Mr. Brown turned up his eyes in disgust at...</td>\n",
              "      <td>2.0</td>\n",
              "    </tr>\n",
              "    <tr>\n",
              "      <th>4</th>\n",
              "      <td>And to this day, if you meet Nutkin up a tree ...</td>\n",
              "      <td>2.0</td>\n",
              "    </tr>\n",
              "  </tbody>\n",
              "</table>\n",
              "</div>\n",
              "      <button class=\"colab-df-convert\" onclick=\"convertToInteractive('df-78d395e8-5328-413e-b8f4-e98f64c762e2')\"\n",
              "              title=\"Convert this dataframe to an interactive table.\"\n",
              "              style=\"display:none;\">\n",
              "        \n",
              "  <svg xmlns=\"http://www.w3.org/2000/svg\" height=\"24px\"viewBox=\"0 0 24 24\"\n",
              "       width=\"24px\">\n",
              "    <path d=\"M0 0h24v24H0V0z\" fill=\"none\"/>\n",
              "    <path d=\"M18.56 5.44l.94 2.06.94-2.06 2.06-.94-2.06-.94-.94-2.06-.94 2.06-2.06.94zm-11 1L8.5 8.5l.94-2.06 2.06-.94-2.06-.94L8.5 2.5l-.94 2.06-2.06.94zm10 10l.94 2.06.94-2.06 2.06-.94-2.06-.94-.94-2.06-.94 2.06-2.06.94z\"/><path d=\"M17.41 7.96l-1.37-1.37c-.4-.4-.92-.59-1.43-.59-.52 0-1.04.2-1.43.59L10.3 9.45l-7.72 7.72c-.78.78-.78 2.05 0 2.83L4 21.41c.39.39.9.59 1.41.59.51 0 1.02-.2 1.41-.59l7.78-7.78 2.81-2.81c.8-.78.8-2.07 0-2.86zM5.41 20L4 18.59l7.72-7.72 1.47 1.35L5.41 20z\"/>\n",
              "  </svg>\n",
              "      </button>\n",
              "      \n",
              "  <style>\n",
              "    .colab-df-container {\n",
              "      display:flex;\n",
              "      flex-wrap:wrap;\n",
              "      gap: 12px;\n",
              "    }\n",
              "\n",
              "    .colab-df-convert {\n",
              "      background-color: #E8F0FE;\n",
              "      border: none;\n",
              "      border-radius: 50%;\n",
              "      cursor: pointer;\n",
              "      display: none;\n",
              "      fill: #1967D2;\n",
              "      height: 32px;\n",
              "      padding: 0 0 0 0;\n",
              "      width: 32px;\n",
              "    }\n",
              "\n",
              "    .colab-df-convert:hover {\n",
              "      background-color: #E2EBFA;\n",
              "      box-shadow: 0px 1px 2px rgba(60, 64, 67, 0.3), 0px 1px 3px 1px rgba(60, 64, 67, 0.15);\n",
              "      fill: #174EA6;\n",
              "    }\n",
              "\n",
              "    [theme=dark] .colab-df-convert {\n",
              "      background-color: #3B4455;\n",
              "      fill: #D2E3FC;\n",
              "    }\n",
              "\n",
              "    [theme=dark] .colab-df-convert:hover {\n",
              "      background-color: #434B5C;\n",
              "      box-shadow: 0px 1px 3px 1px rgba(0, 0, 0, 0.15);\n",
              "      filter: drop-shadow(0px 1px 2px rgba(0, 0, 0, 0.3));\n",
              "      fill: #FFFFFF;\n",
              "    }\n",
              "  </style>\n",
              "\n",
              "      <script>\n",
              "        const buttonEl =\n",
              "          document.querySelector('#df-78d395e8-5328-413e-b8f4-e98f64c762e2 button.colab-df-convert');\n",
              "        buttonEl.style.display =\n",
              "          google.colab.kernel.accessAllowed ? 'block' : 'none';\n",
              "\n",
              "        async function convertToInteractive(key) {\n",
              "          const element = document.querySelector('#df-78d395e8-5328-413e-b8f4-e98f64c762e2');\n",
              "          const dataTable =\n",
              "            await google.colab.kernel.invokeFunction('convertToInteractive',\n",
              "                                                     [key], {});\n",
              "          if (!dataTable) return;\n",
              "\n",
              "          const docLinkHtml = 'Like what you see? Visit the ' +\n",
              "            '<a target=\"_blank\" href=https://colab.research.google.com/notebooks/data_table.ipynb>data table notebook</a>'\n",
              "            + ' to learn more about interactive tables.';\n",
              "          element.innerHTML = '';\n",
              "          dataTable['output_type'] = 'display_data';\n",
              "          await google.colab.output.renderOutput(dataTable, element);\n",
              "          const docLink = document.createElement('div');\n",
              "          docLink.innerHTML = docLinkHtml;\n",
              "          element.appendChild(docLink);\n",
              "        }\n",
              "      </script>\n",
              "    </div>\n",
              "  </div>\n",
              "  "
            ]
          },
          "metadata": {},
          "execution_count": 67
        }
      ],
      "source": [
        "df.head()"
      ]
    },
    {
      "cell_type": "markdown",
      "source": [
        "**DATA PREPROCESSING**"
      ],
      "metadata": {
        "id": "478jMmYrSTif"
      }
    },
    {
      "cell_type": "code",
      "execution_count": null,
      "metadata": {
        "colab": {
          "base_uri": "https://localhost:8080/"
        },
        "id": "h1yGgyC6Ked9",
        "outputId": "de808237-2887-42e6-88ef-71c5681cec46"
      },
      "outputs": [
        {
          "output_type": "execute_result",
          "data": {
            "text/plain": [
              "Sentence      0\n",
              "Emotion     523\n",
              "dtype: int64"
            ]
          },
          "metadata": {},
          "execution_count": 68
        }
      ],
      "source": [
        "df.isnull().sum()"
      ]
    },
    {
      "cell_type": "code",
      "execution_count": null,
      "metadata": {
        "id": "eCARCM1l-qIl"
      },
      "outputs": [],
      "source": [
        "df.fillna(1, inplace=True)"
      ]
    },
    {
      "cell_type": "code",
      "execution_count": null,
      "metadata": {
        "colab": {
          "base_uri": "https://localhost:8080/"
        },
        "id": "AspFldWH-ySq",
        "outputId": "b40b43b8-9f8c-4086-980d-6fd4b64cf1bd"
      },
      "outputs": [
        {
          "output_type": "execute_result",
          "data": {
            "text/plain": [
              "Sentence    0\n",
              "Emotion     0\n",
              "dtype: int64"
            ]
          },
          "metadata": {},
          "execution_count": 70
        }
      ],
      "source": [
        "df.isnull().sum()"
      ]
    },
    {
      "cell_type": "code",
      "execution_count": null,
      "metadata": {
        "colab": {
          "base_uri": "https://localhost:8080/"
        },
        "id": "2Wn2zZPQ-6yE",
        "outputId": "23b60deb-58bd-4565-f744-d001fb03c6fd"
      },
      "outputs": [
        {
          "output_type": "execute_result",
          "data": {
            "text/plain": [
              "(2011, 2)"
            ]
          },
          "metadata": {},
          "execution_count": 71
        }
      ],
      "source": [
        "df.shape"
      ]
    },
    {
      "cell_type": "code",
      "execution_count": null,
      "metadata": {
        "colab": {
          "base_uri": "https://localhost:8080/"
        },
        "id": "psW1wuSRKou9",
        "outputId": "675ea876-e826-4c41-9d35-c33a7ec01520"
      },
      "outputs": [
        {
          "output_type": "execute_result",
          "data": {
            "text/plain": [
              "4.0    587\n",
              "1.0    523\n",
              "6.0    319\n",
              "2.0    243\n",
              "3.0    187\n",
              "7.0    152\n",
              "Name: Emotion, dtype: int64"
            ]
          },
          "metadata": {},
          "execution_count": 72
        }
      ],
      "source": [
        "df['Emotion'].value_counts()"
      ]
    },
    {
      "cell_type": "code",
      "execution_count": null,
      "metadata": {
        "id": "AJ4pJpoALqpT"
      },
      "outputs": [],
      "source": [
        "model_class, tokenizer_class, pretrained_weights = (ppb.BertModel, ppb.BertTokenizer, 'bert-base-uncased')"
      ]
    },
    {
      "cell_type": "code",
      "execution_count": null,
      "metadata": {
        "colab": {
          "base_uri": "https://localhost:8080/"
        },
        "id": "zGQaN0OML2bc",
        "outputId": "54a53d48-24c2-492c-fc7b-55feb886d395"
      },
      "outputs": [
        {
          "output_type": "stream",
          "name": "stderr",
          "text": [
            "Some weights of the model checkpoint at bert-base-uncased were not used when initializing BertModel: ['cls.predictions.transform.dense.weight', 'cls.predictions.decoder.weight', 'cls.predictions.transform.LayerNorm.bias', 'cls.seq_relationship.bias', 'cls.seq_relationship.weight', 'cls.predictions.transform.dense.bias', 'cls.predictions.transform.LayerNorm.weight', 'cls.predictions.bias']\n",
            "- This IS expected if you are initializing BertModel from the checkpoint of a model trained on another task or with another architecture (e.g. initializing a BertForSequenceClassification model from a BertForPreTraining model).\n",
            "- This IS NOT expected if you are initializing BertModel from the checkpoint of a model that you expect to be exactly identical (initializing a BertForSequenceClassification model from a BertForSequenceClassification model).\n"
          ]
        }
      ],
      "source": [
        "tokenizer = tokenizer_class.from_pretrained(pretrained_weights)\n",
        "model = model_class.from_pretrained(pretrained_weights)"
      ]
    },
    {
      "cell_type": "code",
      "execution_count": null,
      "metadata": {
        "id": "NUoXcgSQL7Im"
      },
      "outputs": [],
      "source": [
        "tokenized = df['Sentence'].apply((lambda x: tokenizer.encode(x, add_special_tokens=True)))"
      ]
    },
    {
      "cell_type": "code",
      "execution_count": null,
      "metadata": {
        "id": "6GHwmoBkMIh9"
      },
      "outputs": [],
      "source": [
        "max_len = 0\n",
        "for i in tokenized.values:\n",
        "    if len(i) > max_len:\n",
        "        max_len = len(i)\n",
        "\n",
        "padded = np.array([i + [0]*(max_len-len(i)) for i in tokenized.values])"
      ]
    },
    {
      "cell_type": "code",
      "execution_count": null,
      "metadata": {
        "colab": {
          "base_uri": "https://localhost:8080/"
        },
        "id": "UnbQjuF5MVaU",
        "outputId": "50f3be91-098b-4f76-daad-97351b4b580b"
      },
      "outputs": [
        {
          "output_type": "execute_result",
          "data": {
            "text/plain": [
              "(2011, 116)"
            ]
          },
          "metadata": {},
          "execution_count": 77
        }
      ],
      "source": [
        "np.array(padded).shape"
      ]
    },
    {
      "cell_type": "code",
      "execution_count": null,
      "metadata": {
        "colab": {
          "base_uri": "https://localhost:8080/"
        },
        "id": "UYQG8XTxMXvT",
        "outputId": "b4abeb86-a94c-4fe4-a30a-3c824bcc3fb4"
      },
      "outputs": [
        {
          "output_type": "execute_result",
          "data": {
            "text/plain": [
              "(2011, 116)"
            ]
          },
          "metadata": {},
          "execution_count": 78
        }
      ],
      "source": [
        "attention_mask = np.where(padded != 0, 1, 0)\n",
        "attention_mask.shape"
      ]
    },
    {
      "cell_type": "code",
      "execution_count": null,
      "metadata": {
        "id": "77jNLN6lMb6p"
      },
      "outputs": [],
      "source": [
        "input_ids = torch.tensor(padded)  \n",
        "attention_mask = torch.tensor(attention_mask)\n",
        "\n",
        "with torch.no_grad():\n",
        "    last_hidden_states = model(input_ids, attention_mask=attention_mask)"
      ]
    },
    {
      "cell_type": "code",
      "execution_count": null,
      "metadata": {
        "id": "j406qbAp03-A",
        "colab": {
          "base_uri": "https://localhost:8080/"
        },
        "outputId": "f752bba2-738d-4c8e-c88c-6fdeb2e36b10"
      },
      "outputs": [
        {
          "output_type": "stream",
          "name": "stdout",
          "text": [
            "Drive already mounted at /content/drive; to attempt to forcibly remount, call drive.mount(\"/content/drive\", force_remount=True).\n"
          ]
        }
      ],
      "source": [
        "from google.colab import drive\n",
        "drive.mount('/content/drive')"
      ]
    },
    {
      "cell_type": "code",
      "execution_count": null,
      "metadata": {
        "id": "w7xWE3qf3N1J"
      },
      "outputs": [],
      "source": [
        "ftf = last_hidden_states[0].numpy()"
      ]
    },
    {
      "cell_type": "code",
      "execution_count": null,
      "metadata": {
        "id": "IBQGAtaa5Yms",
        "colab": {
          "base_uri": "https://localhost:8080/"
        },
        "outputId": "f4b3ce74-47d9-4280-cc6d-cedf5e073e3c"
      },
      "outputs": [
        {
          "output_type": "stream",
          "name": "stdout",
          "text": [
            "(2011, 116, 768)\n"
          ]
        }
      ],
      "source": [
        "print(ftf.shape)"
      ]
    },
    {
      "cell_type": "code",
      "execution_count": null,
      "metadata": {
        "id": "aH7KJmbgMlHE"
      },
      "outputs": [],
      "source": [
        "features = last_hidden_states[0][:,0,:].numpy()"
      ]
    },
    {
      "cell_type": "code",
      "execution_count": null,
      "metadata": {
        "id": "t8Ljl-zS3wDM",
        "colab": {
          "base_uri": "https://localhost:8080/"
        },
        "outputId": "c35978b8-9032-491b-c718-b53c5f5c1375"
      },
      "outputs": [
        {
          "output_type": "stream",
          "name": "stdout",
          "text": [
            "(2011, 768)\n",
            "(768,)\n"
          ]
        },
        {
          "output_type": "execute_result",
          "data": {
            "text/plain": [
              "array([[ 0.1915593 ,  0.2802196 , -0.07284648, ...,  0.28744635,\n",
              "         0.63377905,  0.59608954],\n",
              "       [ 0.06012429,  0.0102344 , -0.3863501 , ..., -0.35002953,\n",
              "         0.6891032 ,  0.32826984],\n",
              "       [-0.13783091,  0.54226774, -0.22812462, ..., -0.18520956,\n",
              "         0.4878332 ,  0.54929984],\n",
              "       ...,\n",
              "       [-0.00589724, -0.06791338, -0.42092624, ..., -0.44061896,\n",
              "         0.50576574,  0.03719684],\n",
              "       [ 0.183854  ,  0.08476199, -0.13364014, ..., -0.37431908,\n",
              "         0.7551605 ,  0.12780835],\n",
              "       [ 0.10534973,  0.1682531 ,  0.25186956, ..., -0.5198934 ,\n",
              "         0.7853205 ,  0.11401182]], dtype=float32)"
            ]
          },
          "metadata": {},
          "execution_count": 84
        }
      ],
      "source": [
        "print(features.shape)\n",
        "print(features[0].shape)\n",
        "features"
      ]
    },
    {
      "cell_type": "code",
      "execution_count": null,
      "metadata": {
        "id": "GM0n7T-LOG8E"
      },
      "outputs": [],
      "source": [
        "labels = df['Emotion']"
      ]
    },
    {
      "cell_type": "code",
      "execution_count": null,
      "metadata": {
        "id": "N26scHLXONkK"
      },
      "outputs": [],
      "source": [
        "train_features, test_features, train_labels, test_labels = train_test_split(features, labels)"
      ]
    },
    {
      "cell_type": "code",
      "execution_count": null,
      "metadata": {
        "id": "nZAqQr-JOQkL"
      },
      "outputs": [],
      "source": [
        "# parameters = {'C': np.linspace(0.0001, 100, 20)}\n",
        "# grid_search = GridSearchCV(LogisticRegression(), parameters)\n",
        "# grid_search.fit(train_features, train_labels)\n",
        "\n",
        "# print('best parameters: ', grid_search.best_params_)\n",
        "# print('best scrores: ', grid_search.best_score_)"
      ]
    },
    {
      "cell_type": "code",
      "execution_count": null,
      "metadata": {
        "id": "lMIOwULsO-ui"
      },
      "outputs": [],
      "source": [
        "lr_clf = LogisticRegression(C=5.263252631578947)"
      ]
    },
    {
      "cell_type": "code",
      "execution_count": null,
      "metadata": {
        "id": "ULIhiP_DQSwd",
        "colab": {
          "base_uri": "https://localhost:8080/"
        },
        "outputId": "1fedf7b4-7830-425f-ce1c-3bf6f7e161ef"
      },
      "outputs": [
        {
          "output_type": "execute_result",
          "data": {
            "text/plain": [
              "LogisticRegression(C=5.263252631578947)"
            ]
          },
          "metadata": {},
          "execution_count": 89
        }
      ],
      "source": [
        "lr_clf.fit(train_features, train_labels)"
      ]
    },
    {
      "cell_type": "code",
      "execution_count": null,
      "metadata": {
        "id": "SCrTCYYIQWr1",
        "colab": {
          "base_uri": "https://localhost:8080/"
        },
        "outputId": "749a5e21-b6d2-4410-972c-3da8509e7019"
      },
      "outputs": [
        {
          "output_type": "execute_result",
          "data": {
            "text/plain": [
              "0.6620278330019881"
            ]
          },
          "metadata": {},
          "execution_count": 90
        }
      ],
      "source": [
        "lr_clf.score(test_features, test_labels)"
      ]
    },
    {
      "cell_type": "code",
      "execution_count": null,
      "metadata": {
        "id": "wQpOfqnXQc66"
      },
      "outputs": [],
      "source": [
        "predictions = lr_clf.predict(test_features)"
      ]
    },
    {
      "cell_type": "code",
      "execution_count": null,
      "metadata": {
        "id": "mPFuIgWpTwfn",
        "colab": {
          "base_uri": "https://localhost:8080/"
        },
        "outputId": "74de2e8b-16a7-4fa6-fc1d-1e0370e4d3b0"
      },
      "outputs": [
        {
          "output_type": "execute_result",
          "data": {
            "text/plain": [
              "array([2., 4., 4., 1., 4., 7., 3., 1., 7., 2., 4., 3., 1., 2., 4., 1., 1.,\n",
              "       1., 2., 2., 2., 6., 4., 2., 3., 1., 1., 4., 2., 6., 6., 7., 1., 6.,\n",
              "       4., 6., 6., 2., 6., 4., 4., 4., 4., 1., 2., 1., 7., 1., 1., 4., 4.,\n",
              "       1., 4., 4., 4., 1., 4., 4., 7., 1., 2., 3., 7., 1., 4., 2., 6., 4.,\n",
              "       2., 1., 3., 4., 4., 7., 4., 6., 4., 4., 4., 6., 4., 2., 2., 1., 6.,\n",
              "       4., 1., 4., 2., 4., 4., 1., 6., 4., 6., 2., 6., 3., 1., 1., 1., 1.,\n",
              "       1., 4., 4., 6., 4., 1., 6., 4., 1., 1., 1., 4., 2., 1., 6., 6., 4.,\n",
              "       1., 7., 4., 2., 6., 4., 4., 1., 1., 2., 7., 1., 4., 2., 4., 1., 1.,\n",
              "       6., 4., 6., 1., 6., 4., 7., 6., 4., 7., 2., 1., 7., 4., 1., 4., 6.,\n",
              "       1., 3., 2., 3., 3., 4., 4., 6., 1., 7., 2., 2., 1., 3., 7., 1., 2.,\n",
              "       2., 6., 6., 4., 4., 6., 1., 4., 1., 1., 3., 4., 6., 3., 1., 4., 6.,\n",
              "       4., 6., 6., 4., 3., 4., 6., 1., 1., 6., 2., 6., 6., 1., 2., 4., 4.,\n",
              "       6., 2., 1., 1., 6., 1., 6., 3., 6., 4., 6., 4., 4., 1., 4., 4., 6.,\n",
              "       1., 1., 6., 4., 4., 3., 4., 1., 2., 1., 6., 1., 6., 6., 1., 1., 1.,\n",
              "       3., 1., 6., 6., 4., 6., 1., 6., 3., 3., 1., 2., 2., 7., 4., 1., 4.,\n",
              "       4., 7., 2., 1., 2., 1., 2., 2., 6., 1., 1., 6., 1., 1., 7., 4., 3.,\n",
              "       4., 4., 1., 4., 4., 3., 4., 6., 4., 7., 4., 1., 2., 1., 1., 1., 1.,\n",
              "       6., 3., 4., 4., 6., 1., 4., 7., 4., 4., 4., 6., 3., 4., 4., 4., 4.,\n",
              "       2., 1., 4., 1., 6., 4., 4., 4., 4., 4., 6., 6., 6., 4., 1., 1., 1.,\n",
              "       6., 4., 4., 4., 1., 2., 4., 7., 4., 6., 1., 3., 7., 1., 1., 1., 1.,\n",
              "       6., 7., 3., 1., 1., 4., 2., 6., 1., 1., 3., 3., 4., 1., 4., 7., 4.,\n",
              "       1., 6., 4., 7., 1., 6., 4., 1., 6., 3., 3., 7., 1., 6., 1., 1., 3.,\n",
              "       1., 2., 6., 1., 7., 3., 6., 1., 4., 1., 3., 4., 3., 6., 2., 3., 1.,\n",
              "       2., 2., 2., 4., 1., 3., 4., 1., 4., 1., 6., 1., 1., 2., 4., 3., 1.,\n",
              "       1., 3., 4., 3., 2., 4., 1., 1., 1., 4., 4., 7., 3., 1., 7., 4., 6.,\n",
              "       7., 1., 6., 4., 1., 1., 3., 1., 1., 2., 4., 1., 6., 1., 4., 7., 1.,\n",
              "       2., 2., 1., 3., 4., 1., 3., 6., 4., 4., 4., 6., 7., 4., 1., 4., 1.,\n",
              "       7., 1., 4., 4., 7., 4., 1., 6., 1., 2., 4., 1., 3., 3., 4., 2., 4.,\n",
              "       1., 7., 1., 1., 6., 4., 1., 4., 6., 7., 1., 2., 6., 4., 6., 6., 1.,\n",
              "       6., 4., 1., 4., 2., 1., 1., 7., 3., 1.])"
            ]
          },
          "metadata": {},
          "execution_count": 92
        }
      ],
      "source": [
        "predictions"
      ]
    },
    {
      "cell_type": "code",
      "execution_count": null,
      "metadata": {
        "id": "D-0mnXBQT1vv",
        "colab": {
          "base_uri": "https://localhost:8080/"
        },
        "outputId": "dc239ed2-4fae-4fb7-8b36-060f33ad56d6"
      },
      "outputs": [
        {
          "output_type": "stream",
          "name": "stdout",
          "text": [
            "0.6620278330019881\n"
          ]
        }
      ],
      "source": [
        "from sklearn.metrics import accuracy_score\n",
        "print(accuracy_score(test_labels, predictions))"
      ]
    },
    {
      "cell_type": "code",
      "execution_count": null,
      "metadata": {
        "id": "OM3YMA3Q3ELV"
      },
      "outputs": [],
      "source": [
        "def transform(df):\n",
        "  tokenized = df['Sentence'].apply((lambda x: tokenizer.encode(x, add_special_tokens=True)))\n",
        "  max_len = 0\n",
        "  for i in tokenized.values:\n",
        "    if len(i) > max_len:\n",
        "        max_len = len(i)\n",
        "\n",
        "  padded = np.array([i + [0]*(max_len-len(i)) for i in tokenized.values])\n",
        "  attention_mask = np.where(padded != 0, 1, 0)\n",
        "  input_ids = torch.tensor(padded)  \n",
        "  attention_mask = torch.tensor(attention_mask)\n",
        "\n",
        "  with torch.no_grad():\n",
        "    last_hidden_states = model(input_ids, attention_mask=attention_mask)\n",
        "  features = last_hidden_states[0][:,0,:].numpy()\n",
        "  return features"
      ]
    },
    {
      "cell_type": "code",
      "execution_count": null,
      "metadata": {
        "id": "RGPTT9El8mam"
      },
      "outputs": [],
      "source": [
        "import pickle\n",
        "with open('lr_clf_model', 'wb') as files:\n",
        "    pickle.dump(lr_clf, files)"
      ]
    },
    {
      "cell_type": "code",
      "execution_count": null,
      "metadata": {
        "id": "GzS3J_PMrhw8"
      },
      "outputs": [],
      "source": [
        "import pickle\n",
        "with open('/content/drive/MyDrive/ED/Pretrained models/lr_clf_model' , 'rb') as f:\n",
        "    lr_clf_2 = pickle.load(f)"
      ]
    },
    {
      "cell_type": "code",
      "execution_count": null,
      "metadata": {
        "id": "OqXuK5UkrN_H"
      },
      "outputs": [],
      "source": [
        "embed_array = ['__', 'normal_embed', 'angry_embed', 'fear_embed', 'happy_embed', '__', 'sad_embed', 'suprise_embed']"
      ]
    },
    {
      "cell_type": "code",
      "execution_count": null,
      "metadata": {
        "id": "zv6HMa2atCxG",
        "colab": {
          "base_uri": "https://localhost:8080/"
        },
        "outputId": "8728b204-bb6d-421d-9d8f-6aad2b215985"
      },
      "outputs": [
        {
          "output_type": "stream",
          "name": "stdout",
          "text": [
            "Colab only includes TensorFlow 2.x; %tensorflow_version has no effect.\n",
            "Loaded encoder \"encoder.pt\" trained to step 1564501\n",
            "Synthesizer using device: cpu\n",
            "Building Wave-RNN\n",
            "Trainable Parameters: 4.481M\n",
            "Loading model weights at /content/drive/MyDrive/ED/Pretrained models/vocoder.pt\n"
          ]
        }
      ],
      "source": [
        "%tensorflow_version 2.x\n",
        "import os\n",
        "from os.path import exists, join, basename, splitext\n",
        "git_repo_url = 'https://github.com/CorentinJ/Real-Time-Voice-Cloning.git'\n",
        "project_name = splitext(basename(git_repo_url))[0]\n",
        "if not exists(project_name):\n",
        "  # clone and install\n",
        "  !git clone -q --recursive {git_repo_url}\n",
        "  # install dependencies\n",
        "  !cd {project_name} && pip install -q -r requirements.txt\n",
        "  !pip install -q gdown\n",
        "  !apt-get install -qq libportaudio2\n",
        "  !pip install -q https://github.com/tugstugi/dl-colab-notebooks/archive/colab_utils.zip\n",
        "\n",
        "import sys\n",
        "sys.path.append(project_name)\n",
        "\n",
        "from IPython.display import display, Audio, clear_output\n",
        "from IPython.utils import io\n",
        "import ipywidgets as widgets\n",
        "import numpy as np\n",
        "from dl_colab_notebooks.audio import record_audio, upload_audio\n",
        "\n",
        "from synthesizer.inference import Synthesizer\n",
        "from encoder import inference as encoder\n",
        "from vocoder import inference as vocoder\n",
        "from pathlib import Path\n",
        "\n",
        "encoder.load_model(Path(\"/content/drive/MyDrive/ED/Pretrained models/encoder.pt\"))\n",
        "synthesizer = Synthesizer(Path(\"/content/drive/MyDrive/ED/Pretrained models/synthesizer.pt\"))\n",
        "vocoder.load_model(Path(\"/content/drive/MyDrive/ED/Pretrained models/vocoder.pt\"))"
      ]
    },
    {
      "cell_type": "code",
      "execution_count": null,
      "metadata": {
        "id": "QZXCoBUyuRcy"
      },
      "outputs": [],
      "source": [
        "def synthesize(embed, text):\n",
        "  print(\"Synthesizing new audio...\")\n",
        "  #with io.capture_output() as captured:\n",
        "  specs = synthesizer.synthesize_spectrograms([text], [embed])\n",
        "  generated_wav = vocoder.infer_waveform(specs[0])\n",
        "  generated_wav = np.pad(generated_wav, (0, synthesizer.sample_rate), mode=\"constant\")\n",
        "  clear_output()\n",
        "  display(Audio(generated_wav, rate=synthesizer.sample_rate, autoplay=True))\n"
      ]
    },
    {
      "cell_type": "code",
      "execution_count": null,
      "metadata": {
        "id": "_O4CdIs22yhp"
      },
      "outputs": [],
      "source": [
        "Sentence_list = ['''I AM happy but climate is bad''']\n",
        "values = {'Sentence':  Sentence_list}\n",
        "test_data = pd.DataFrame(values)\n",
        "test_feature = transform(test_data)"
      ]
    },
    {
      "cell_type": "code",
      "execution_count": null,
      "metadata": {
        "id": "L4PG-8hz71Nw"
      },
      "outputs": [],
      "source": [
        "prediction = lr_clf_2.predict(test_feature)"
      ]
    },
    {
      "cell_type": "code",
      "execution_count": null,
      "metadata": {
        "id": "G83PVrNl8DVA",
        "colab": {
          "base_uri": "https://localhost:8080/"
        },
        "outputId": "56fb708e-3b19-4cc1-fb5b-0e109e2f238f"
      },
      "outputs": [
        {
          "output_type": "execute_result",
          "data": {
            "text/plain": [
              "array([3.])"
            ]
          },
          "metadata": {},
          "execution_count": 112
        }
      ],
      "source": [
        "prediction"
      ]
    },
    {
      "cell_type": "code",
      "execution_count": null,
      "metadata": {
        "id": "FlgI0_ul6Ns7"
      },
      "outputs": [],
      "source": [
        "embed = Path(\"/content/drive/MyDrive/ED/Pretrained models/\" + embed_array[int(prediction[0])])"
      ]
    },
    {
      "cell_type": "code",
      "execution_count": null,
      "metadata": {
        "id": "Xqhv-oec6DrU"
      },
      "outputs": [],
      "source": [
        "with open(embed , 'rb') as f:\n",
        "    embedding_emo = pickle.load(f)"
      ]
    },
    {
      "cell_type": "code",
      "execution_count": null,
      "metadata": {
        "id": "TxB-o7jkvVmk",
        "colab": {
          "base_uri": "https://localhost:8080/",
          "height": 76
        },
        "outputId": "ace83c50-2611-453f-8a12-8d1340f825e1"
      },
      "outputs": [
        {
          "output_type": "display_data",
          "data": {
            "text/plain": [
              "<IPython.lib.display.Audio object>"
            ],
            "text/html": [
              "\n",
              "                <audio  controls=\"controls\" autoplay=\"autoplay\">\n",
              "                    <source src=\"data:audio/wav;base64,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\" type=\"audio/wav\" />\n",
              "                    Your browser does not support the audio element.\n",
              "                </audio>\n",
              "              "
            ]
          },
          "metadata": {}
        }
      ],
      "source": [
        "synthesize(embedding_emo, Sentence_list[0])"
      ]
    },
    {
      "cell_type": "code",
      "source": [
        "print(\"================= SVM =================\")\n",
        "from sklearn import svm\n",
        "\n",
        "#Create a svm Classifier\n",
        "lr_clf = svm.SVC(kernel='linear') # Linear Kernel\n",
        "lr_clf.fit(train_features, train_labels)\n",
        "lr_clf.score(test_features, test_labels)\n",
        "predictions = lr_clf.predict(test_features)\n",
        "print(predictions)\n",
        "from sklearn.metrics import accuracy_score\n",
        "print(accuracy_score(test_labels, predictions))\n",
        "\n",
        "\n"
      ],
      "metadata": {
        "colab": {
          "base_uri": "https://localhost:8080/"
        },
        "id": "NtSgwKr_FUsM",
        "outputId": "2d43544e-840b-4f60-a315-564475a7e777"
      },
      "execution_count": null,
      "outputs": [
        {
          "output_type": "stream",
          "name": "stdout",
          "text": [
            "================= SVM =================\n",
            "[7. 2. 4. 1. 4. 7. 3. 1. 7. 7. 4. 6. 1. 2. 4. 1. 1. 1. 2. 2. 2. 6. 4. 2.\n",
            " 3. 1. 1. 4. 2. 2. 6. 4. 1. 6. 4. 6. 6. 2. 6. 4. 4. 4. 4. 1. 2. 1. 7. 1.\n",
            " 1. 4. 4. 1. 4. 1. 4. 1. 4. 4. 7. 1. 2. 7. 7. 4. 4. 2. 6. 4. 2. 1. 3. 7.\n",
            " 4. 7. 4. 2. 4. 4. 4. 6. 4. 2. 2. 1. 2. 4. 1. 6. 2. 4. 4. 1. 6. 4. 6. 3.\n",
            " 6. 3. 1. 1. 1. 1. 1. 2. 4. 6. 4. 1. 6. 4. 1. 1. 1. 4. 2. 1. 2. 6. 4. 1.\n",
            " 7. 4. 2. 6. 4. 3. 1. 1. 2. 1. 1. 4. 4. 4. 1. 1. 6. 4. 6. 1. 6. 4. 7. 6.\n",
            " 1. 7. 2. 1. 3. 4. 1. 4. 1. 1. 2. 2. 1. 3. 4. 1. 6. 1. 7. 1. 2. 1. 3. 7.\n",
            " 6. 2. 2. 6. 6. 4. 4. 4. 1. 4. 1. 1. 3. 4. 6. 1. 1. 4. 6. 4. 6. 4. 4. 3.\n",
            " 4. 6. 1. 1. 1. 2. 1. 1. 4. 2. 4. 4. 3. 1. 1. 2. 6. 1. 6. 3. 7. 4. 4. 4.\n",
            " 4. 1. 4. 4. 6. 1. 1. 4. 4. 4. 3. 4. 4. 2. 1. 6. 1. 6. 6. 1. 1. 1. 3. 1.\n",
            " 4. 3. 4. 1. 1. 6. 3. 3. 1. 1. 2. 7. 4. 1. 1. 4. 7. 7. 1. 2. 1. 2. 2. 6.\n",
            " 1. 1. 6. 1. 1. 1. 4. 3. 4. 4. 1. 4. 1. 1. 4. 6. 4. 7. 4. 1. 2. 1. 1. 1.\n",
            " 1. 6. 3. 4. 1. 6. 4. 4. 4. 1. 4. 4. 3. 3. 4. 4. 3. 4. 2. 1. 4. 1. 6. 4.\n",
            " 4. 3. 4. 4. 6. 6. 6. 4. 1. 1. 1. 6. 4. 4. 4. 1. 2. 4. 7. 4. 6. 1. 3. 4.\n",
            " 1. 1. 1. 1. 6. 1. 3. 1. 1. 4. 2. 2. 1. 1. 3. 3. 4. 1. 1. 7. 4. 1. 6. 7.\n",
            " 7. 1. 1. 4. 1. 6. 3. 1. 7. 1. 6. 1. 1. 1. 1. 2. 4. 1. 1. 3. 6. 1. 4. 1.\n",
            " 3. 4. 7. 2. 2. 3. 2. 2. 1. 2. 4. 1. 3. 4. 1. 4. 1. 6. 1. 1. 2. 4. 3. 4.\n",
            " 1. 3. 1. 6. 2. 7. 1. 1. 1. 7. 4. 7. 2. 1. 7. 4. 6. 1. 1. 3. 1. 1. 1. 3.\n",
            " 1. 1. 2. 6. 1. 6. 1. 4. 6. 1. 2. 2. 1. 7. 4. 1. 3. 6. 4. 4. 4. 6. 7. 4.\n",
            " 1. 4. 1. 7. 1. 4. 4. 1. 4. 1. 3. 1. 1. 4. 1. 3. 3. 2. 2. 4. 4. 6. 1. 1.\n",
            " 1. 4. 1. 4. 6. 7. 1. 2. 6. 2. 3. 1. 1. 6. 4. 1. 4. 1. 1. 1. 7. 3. 1.]\n",
            "0.6679920477137177\n"
          ]
        }
      ]
    },
    {
      "cell_type": "code",
      "source": [
        "print(\"=================RandomForestClassifier =================\")\n",
        "from sklearn.ensemble import RandomForestClassifier\n",
        "lr_clf = RandomForestClassifier(n_estimators=50, criterion=\"entropy\")\n",
        "lr_clf.fit(train_features, train_labels)\n",
        "lr_clf.score(test_features, test_labels)\n",
        "predictions = lr_clf.predict(test_features)\n",
        "print(predictions)\n",
        "print(accuracy_score(test_labels, predictions))"
      ],
      "metadata": {
        "colab": {
          "base_uri": "https://localhost:8080/"
        },
        "id": "Jh0DUby4FaDN",
        "outputId": "27ca7c09-a832-4ad5-940d-f4bc6ee69f0c"
      },
      "execution_count": null,
      "outputs": [
        {
          "output_type": "stream",
          "name": "stdout",
          "text": [
            "=================RandomForestClassifier =================\n",
            "[6. 4. 4. 1. 1. 1. 3. 1. 1. 2. 4. 6. 1. 3. 4. 4. 1. 1. 1. 2. 3. 6. 6. 2.\n",
            " 4. 1. 1. 1. 6. 4. 6. 1. 1. 6. 4. 6. 1. 2. 4. 4. 4. 4. 1. 1. 4. 1. 4. 1.\n",
            " 1. 1. 4. 1. 4. 4. 4. 1. 4. 4. 4. 1. 1. 6. 2. 1. 4. 4. 4. 4. 4. 1. 3. 4.\n",
            " 4. 4. 4. 6. 4. 4. 4. 4. 4. 4. 2. 1. 6. 4. 1. 4. 4. 4. 6. 1. 4. 4. 6. 4.\n",
            " 6. 4. 1. 1. 1. 1. 1. 4. 1. 1. 4. 1. 6. 4. 1. 1. 1. 1. 2. 1. 6. 6. 4. 1.\n",
            " 4. 4. 4. 6. 4. 4. 1. 1. 4. 1. 1. 4. 2. 4. 1. 1. 4. 1. 6. 1. 4. 4. 1. 4.\n",
            " 1. 1. 4. 1. 1. 4. 1. 4. 1. 1. 6. 1. 1. 1. 4. 4. 6. 1. 1. 1. 6. 1. 4. 1.\n",
            " 1. 2. 2. 1. 6. 1. 4. 4. 1. 4. 1. 1. 6. 4. 4. 1. 1. 4. 4. 4. 6. 4. 4. 2.\n",
            " 4. 4. 1. 1. 1. 4. 1. 4. 1. 2. 4. 4. 2. 1. 1. 1. 4. 1. 6. 4. 6. 4. 1. 4.\n",
            " 4. 1. 4. 4. 6. 1. 1. 6. 4. 4. 4. 4. 4. 1. 1. 6. 1. 1. 6. 4. 1. 1. 4. 1.\n",
            " 6. 4. 4. 6. 1. 1. 4. 3. 1. 1. 2. 2. 4. 1. 4. 1. 2. 4. 1. 4. 1. 2. 2. 6.\n",
            " 1. 2. 4. 1. 1. 1. 4. 1. 4. 4. 1. 4. 1. 1. 4. 6. 4. 1. 4. 1. 4. 1. 1. 1.\n",
            " 1. 6. 4. 4. 1. 6. 1. 4. 4. 1. 4. 4. 4. 1. 4. 4. 4. 4. 2. 1. 4. 1. 4. 1.\n",
            " 4. 4. 4. 6. 6. 4. 4. 1. 1. 1. 1. 6. 4. 4. 4. 1. 2. 4. 4. 4. 1. 1. 4. 4.\n",
            " 1. 1. 1. 1. 1. 1. 6. 1. 1. 4. 1. 1. 1. 1. 4. 3. 4. 1. 1. 2. 4. 1. 2. 4.\n",
            " 1. 1. 1. 4. 1. 4. 6. 1. 1. 1. 4. 1. 1. 1. 1. 2. 4. 1. 1. 6. 4. 1. 4. 1.\n",
            " 3. 4. 4. 4. 6. 4. 1. 4. 4. 6. 4. 1. 2. 1. 1. 4. 1. 1. 1. 1. 2. 4. 1. 4.\n",
            " 1. 4. 4. 1. 4. 1. 4. 1. 1. 4. 4. 1. 1. 1. 4. 4. 4. 7. 1. 4. 1. 1. 1. 6.\n",
            " 1. 1. 4. 4. 1. 4. 1. 4. 1. 1. 2. 1. 1. 7. 4. 4. 3. 1. 4. 4. 2. 6. 7. 4.\n",
            " 1. 1. 1. 1. 1. 4. 4. 4. 4. 1. 6. 1. 1. 1. 1. 3. 2. 4. 4. 1. 4. 4. 4. 1.\n",
            " 1. 4. 1. 4. 6. 1. 1. 1. 4. 4. 6. 1. 1. 6. 4. 1. 1. 1. 1. 1. 1. 3. 1.]\n",
            "0.5785288270377733\n"
          ]
        }
      ]
    }
  ],
  "metadata": {
    "colab": {
      "provenance": []
    },
    "gpuClass": "standard",
    "kernelspec": {
      "display_name": "Python 3",
      "name": "python3"
    },
    "language_info": {
      "name": "python"
    }
  },
  "nbformat": 4,
  "nbformat_minor": 0
}